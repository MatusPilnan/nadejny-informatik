{
 "cells": [
  {
   "cell_type": "code",
   "execution_count": 133,
   "metadata": {
    "collapsed": true
   },
   "outputs": [],
   "source": [
    "import pandas as pd\n",
    "import numpy\n",
    "import json"
   ]
  },
  {
   "cell_type": "code",
   "execution_count": 134,
   "metadata": {
    "collapsed": true
   },
   "outputs": [],
   "source": [
    "\n",
    "def vek(vstup):\n",
    "    try:\n",
    "        return int(abs(float(vstup)))/1000 if abs(float(vstup)) > 1000 else int(abs(float(vstup)))\n",
    "    except ValueError:\n",
    "        return numpy.nan\n",
    "    \n",
    "\n",
    "konvertovace = {\n",
    "    'age' : vek\n",
    "}\n",
    "\n",
    "personalne = pd.read_csv(\"data/personal_train.csv\", na_values='?', index_col=0, converters=konvertovace, )\n",
    "personalne = personalne.drop(columns='date_of_birth')"
   ]
  },
  {
   "cell_type": "markdown",
   "metadata": {},
   "source": [
    "Nacitane personalne data, s opravenym vekom, odstranenym datumom narodenia (nie je potrebny)"
   ]
  },
  {
   "cell_type": "code",
   "execution_count": 135,
   "metadata": {},
   "outputs": [],
   "source": [
    "bulo = lambda vstup: numpy.nan if pd.isna(vstup) or len(str(vstup).strip()) is 0 else str(vstup).strip().lower().split('.')[0][0] == 't'\n",
    "classa = lambda vstup: vstup.lower().split('.|')[0]\n",
    "\n",
    "\n",
    "def js(vstup):\n",
    "    try:\n",
    "        return str(vstup).replace(\"'\", '\"')\n",
    "    except json.JSONDecodeError:\n",
    "        pass\n",
    "konvertovace = {\n",
    "    \"FTI measured\": bulo,\n",
    "    \"tumor\": bulo,\n",
    "    \"lithium\": bulo,\n",
    "    \"thyroid surgery\": bulo,\n",
    "    \"I131 treatment\": bulo,\n",
    "    \"goitre\": bulo,\n",
    "    \"hypopituitary\": bulo,\n",
    "    \"query on thyroxine\": bulo,\n",
    "    \"T3 measured\": bulo,\n",
    "    \"TBG measured\": bulo,\n",
    "    \"pregnant\": bulo,\n",
    "    \"class\": classa,\n",
    "    \"medical_info\": js\n",
    "}\n",
    "other = pd.read_csv(\"data/other_train.csv\", na_values=['?', '??', ' ?'], index_col=0, true_values=['t'],\n",
    "                    false_values=['f'],\n",
    "                    converters=konvertovace)\n",
    "other = other.drop(columns=['TBG'])\n"
   ]
  },
  {
   "cell_type": "markdown",
   "metadata": {
    "collapsed": true
   },
   "source": [
    "Nacitane ostatne udaje s opravenymi boolovskymi hodnotami a vyhodenym prazdnym stlpcom TBG"
   ]
  },
  {
   "cell_type": "code",
   "execution_count": 136,
   "metadata": {
    "collapsed": true
   },
   "outputs": [],
   "source": [
    "def rozober_json(vstup):\n",
    "    try:\n",
    "        return pd.Series(json.loads(vstup))\n",
    "    except json.JSONDecodeError:\n",
    "        return pd.Series(json.loads('{}'))\n",
    "other = other.join(other['medical_info'].apply(rozober_json))\n",
    "other = other.drop(columns='medical_info')"
   ]
  },
  {
   "cell_type": "markdown",
   "metadata": {},
   "source": [
    "Rozoberanie jsonu v medical_info stlpci na jednotlive stlpce"
   ]
  },
  {
   "cell_type": "code",
   "execution_count": 137,
   "metadata": {
    "collapsed": false
   },
   "outputs": [],
   "source": [
    "for stlpec in ['TSH measured', 'query hyperthyroid', 'TT4 measured', 'on antithyroid medication', 'sick', 'T4U measured', 'psych', 'query hypothyroid']:\n",
    "    other[stlpec] = other[stlpec].apply(bulo)\n",
    "\n",
    "other = other.replace('?', numpy.nan)"
   ]
  },
  {
   "cell_type": "markdown",
   "metadata": {},
   "source": [
    "Oprava pridanych boolovskych stlpcov a nahradenie ? za NaN"
   ]
  },
  {
   "cell_type": "code",
   "execution_count": 138,
   "metadata": {
    "collapsed": false
   },
   "outputs": [],
   "source": [
    "vsetko = other.merge(personalne, on=('name', 'address'))\n",
    "vsetko = vsetko.replace(to_replace=[None], value=numpy.nan)"
   ]
  },
  {
   "cell_type": "markdown",
   "metadata": {
    "collapsed": false
   },
   "source": [
    "Spojenie suborov a nahradenie None za NaN"
   ]
  },
  {
   "cell_type": "code",
   "execution_count": 139,
   "metadata": {},
   "outputs": [],
   "source": [
    "def agreguj(vstup):\n",
    "    vstup = vstup.reset_index()\n",
    "    for hodnota in vstup.values:\n",
    "         if not pd.isna(hodnota[1]):\n",
    "             return hodnota[1]\n",
    "    return numpy.nan"
   ]
  },
  {
   "cell_type": "code",
   "execution_count": 140,
   "metadata": {},
   "outputs": [],
   "source": [
    "vsetko = vsetko.groupby(['name', 'address']).aggregate(agreguj).reset_index()"
   ]
  },
  {
   "cell_type": "markdown",
   "metadata": {},
   "source": [
    "Spojenie rovnakych riadkov"
   ]
  },
  {
   "cell_type": "code",
   "execution_count": 141,
   "metadata": {},
   "outputs": [],
   "source": [
    "vsetko.FTI = pd.to_numeric(vsetko.FTI)"
   ]
  },
  {
   "cell_type": "code",
   "execution_count": 142,
   "metadata": {
    "collapsed": false
   },
   "outputs": [],
   "source": [
    "vsetko = vsetko[vsetko['class']!='']"
   ]
  },
  {
   "cell_type": "markdown",
   "metadata": {},
   "source": [
    "Odstranenie riadkov s prazdnou hodnotou class - tieto riadky by nam pri trenovani nepomohli"
   ]
  },
  {
   "cell_type": "code",
   "execution_count": 143,
   "metadata": {},
   "outputs": [],
   "source": [
    "nenumericke = vsetko.select_dtypes(exclude=numpy.number).columns\n",
    "modusy = {}\n",
    "for stlpec in nenumericke:\n",
    "    modusy[stlpec] = vsetko[stlpec].mode()\n",
    "modusove = vsetko.replace(numpy.nan, value=modusy)\n"
   ]
  },
  {
   "cell_type": "code",
   "execution_count": 144,
   "metadata": {},
   "outputs": [],
   "source": [
    "numericke = vsetko.select_dtypes(include=numpy.number).columns\n",
    "mediany = {}\n",
    "for stlpec in numericke:\n",
    "    mediany[stlpec] = vsetko[stlpec].median()\n",
    "medianove = vsetko.replace(numpy.nan, value=mediany)"
   ]
  },
  {
   "cell_type": "code",
   "execution_count": 145,
   "metadata": {},
   "outputs": [],
   "source": [
    "medianove.to_csv(path_or_buf='data/opravene_spojene_medianom.csv')"
   ]
  },
  {
   "cell_type": "code",
   "execution_count": 146,
   "metadata": {},
   "outputs": [],
   "source": [
    "linearne = vsetko.interpolate()"
   ]
  },
  {
   "cell_type": "code",
   "execution_count": 147,
   "metadata": {},
   "outputs": [],
   "source": [
    "linearne.to_csv(path_or_buf='data/opravene_spojene_linearne.csv')"
   ]
  },
  {
   "cell_type": "code",
   "execution_count": 148,
   "metadata": {},
   "outputs": [],
   "source": []
  }
 ],
 "metadata": {
  "kernelspec": {
   "display_name": "Python 2",
   "language": "python",
   "name": "python2"
  },
  "language_info": {
   "codemirror_mode": {
    "name": "ipython",
    "version": 2
   },
   "file_extension": ".py",
   "mimetype": "text/x-python",
   "name": "python",
   "nbconvert_exporter": "python",
   "pygments_lexer": "ipython2",
   "version": "2.7.6"
  }
 },
 "nbformat": 4,
 "nbformat_minor": 0
}
