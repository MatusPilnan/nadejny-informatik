{
 "cells": [
  {
   "cell_type": "code",
   "execution_count": 1,
   "metadata": {
    "collapsed": true
   },
   "outputs": [],
   "source": [
    "import pandas as pd\n",
    "import numpy\n",
    "import json\n",
    "import dateparser\n",
    "import datetime\n",
    "import seaborn as sns\n",
    "import matplotlib as mpl\n",
    "from scipy import stats\n",
    "sns.set_style('white', {'legend.frameon':True})\n",
    "mpl.rcParams['figure.figsize'] = 25, 10"
   ]
  },
  {
   "cell_type": "code",
   "execution_count": 2,
   "metadata": {
    "collapsed": true
   },
   "outputs": [],
   "source": [
    "\n",
    "def vek(vstup):\n",
    "    try:\n",
    "        vystup = int(abs(float(vstup)))/1000 if abs(float(vstup)) > 1000 else int(abs(float(vstup)))\n",
    "        if vystup is not int(vystup):\n",
    "            vystup *= 10\n",
    "        if vystup % 100 is 0:\n",
    "            vystup /= 100\n",
    "        return vystup\n",
    "    except ValueError:\n",
    "        return numpy.nan\n",
    "\n",
    "\n",
    "def datum(vstup):\n",
    "    formaty = ['%Y-%m-%d', '%Y/%m/%d', '%y-%m-%d', '%d/%m/%Y']\n",
    "    vstup = vstup[:10].strip()\n",
    "    if not len(vstup):\n",
    "        return numpy.nan\n",
    "    vystup = dateparser.parse(vstup, formaty)\n",
    "    if vystup is None:\n",
    "        raise Exception('Nenaznamy format datumu:' + vstup)\n",
    "    if vystup.year > 2018:\n",
    "        vystup = vystup - datetime.timedelta(36500)     \n",
    "    if vystup.year < 1900:\n",
    "        vystup = datetime.datetime(1900 + vystup.year % 100, vystup.month, vystup.day)\n",
    "    return vystup\n",
    "\n",
    "\n",
    "konvertovace = {\n",
    "    'age' : vek,\n",
    "    'date_of_birth': datum\n",
    "}\n",
    "\n",
    "personalne = pd.read_csv(\"data/personal_test.csv\", na_values='?', index_col=0, converters=konvertovace, )\n",
    "\n"
   ]
  },
  {
   "cell_type": "markdown",
   "metadata": {},
   "source": [
    "Nacitane personalne data, s opravenym vekom a datumom narodenia."
   ]
  },
  {
   "cell_type": "code",
   "execution_count": 3,
   "metadata": {},
   "outputs": [],
   "source": [
    "bulo = lambda vstup: numpy.nan if pd.isna(vstup) or len(str(vstup).strip()) is 0 else str(vstup).strip().lower().split('.')[0][0] == 't'\n",
    "classa = lambda vstup: vstup.lower().split('.|')[0]\n",
    "\n",
    "\n",
    "def js(vstup):\n",
    "    try:\n",
    "        return str(vstup).replace(\"'\", '\"')\n",
    "    except json.JSONDecodeError:\n",
    "        pass\n",
    "\n",
    "konvertovace = {\n",
    "    \"FTI measured\": bulo,\n",
    "    \"tumor\": bulo,\n",
    "    \"lithium\": bulo,\n",
    "    \"thyroid surgery\": bulo,\n",
    "    \"I131 treatment\": bulo,\n",
    "    \"goitre\": bulo,\n",
    "    \"hypopituitary\": bulo,\n",
    "    \"query on thyroxine\": bulo,\n",
    "    \"T3 measured\": bulo,\n",
    "    \"TBG measured\": bulo,\n",
    "    \"pregnant\": bulo,\n",
    "    \"class\": classa,\n",
    "    \"medical_info\": js\n",
    "}\n",
    "other = pd.read_csv(\"data/other_test.csv\", na_values=['?', '??', ' ?'], index_col=0, true_values=['t'],\n",
    "                    false_values=['f'],\n",
    "                    converters=konvertovace)\n",
    "other = other.drop(columns=['TBG'])\n"
   ]
  },
  {
   "cell_type": "markdown",
   "metadata": {
    "collapsed": true
   },
   "source": [
    "Nacitane ostatne udaje s opravenymi boolovskymi hodnotami a vyhodenym prazdnym stlpcom TBG"
   ]
  },
  {
   "cell_type": "code",
   "execution_count": 4,
   "metadata": {
    "collapsed": true
   },
   "outputs": [],
   "source": [
    "def rozober_json(vstup):\n",
    "    try:\n",
    "        return pd.Series(json.loads(vstup))\n",
    "    except json.JSONDecodeError:\n",
    "        return pd.Series(json.loads('{}'))\n",
    "other = other.join(other['medical_info'].apply(rozober_json))\n",
    "other = other.drop(columns='medical_info')"
   ]
  },
  {
   "cell_type": "markdown",
   "metadata": {},
   "source": [
    "Rozoberanie jsonu v medical_info stlpci na jednotlive stlpce"
   ]
  },
  {
   "cell_type": "code",
   "execution_count": 5,
   "metadata": {
    "collapsed": false
   },
   "outputs": [],
   "source": [
    "for stlpec in ['TSH measured', 'query hyperthyroid', 'TT4 measured', 'on antithyroid medication', 'sick', 'T4U measured', 'psych', 'query hypothyroid']:\n",
    "    other[stlpec] = other[stlpec].apply(bulo)\n",
    "\n",
    "other = other.replace('?', numpy.nan)"
   ]
  },
  {
   "cell_type": "markdown",
   "metadata": {},
   "source": [
    "Oprava pridanych boolovskych stlpcov a nahradenie ? za NaN"
   ]
  },
  {
   "cell_type": "code",
   "execution_count": 6,
   "metadata": {
    "collapsed": false
   },
   "outputs": [],
   "source": [
    "vsetko = other.merge(personalne, on=('name', 'address'))\n",
    "vsetko = vsetko.replace(to_replace=[None], value=numpy.nan)"
   ]
  },
  {
   "cell_type": "markdown",
   "metadata": {
    "collapsed": false
   },
   "source": [
    "Spojenie suborov a nahradenie None za NaN"
   ]
  },
  {
   "cell_type": "code",
   "execution_count": 7,
   "metadata": {},
   "outputs": [],
   "source": [
    "def agreguj(vstup):\n",
    "    vstup = vstup.reset_index()\n",
    "    for hodnota in vstup.values:\n",
    "        if not pd.isna(hodnota[1]) and str(hodnota[1]).strip() != '':\n",
    "            return hodnota[1]\n",
    "    return numpy.nan"
   ]
  },
  {
   "cell_type": "code",
   "execution_count": 8,
   "metadata": {},
   "outputs": [],
   "source": [
    "vsetko = vsetko.groupby(['name', 'address']).aggregate(agreguj).reset_index()"
   ]
  },
  {
   "cell_type": "markdown",
   "metadata": {},
   "source": [
    "Spojenie rovnakych riadkov. Momentalne berieme prvu neprazdnu hodnotu. V pripade ze by bolo neprazdnych hodnot viac, dal by sa pouzit priemer pre numericke atributy a modus pre kategoricke, pripadne najcastejsia hodnota v celom datasete ak by pocet vyskytov bol rovnaky."
   ]
  },
  {
   "cell_type": "code",
   "execution_count": 9,
   "metadata": {},
   "outputs": [],
   "source": [
    "vsetko.FTI = pd.to_numeric(vsetko.FTI)"
   ]
  },
  {
   "cell_type": "code",
   "execution_count": 10,
   "metadata": {
    "collapsed": false
   },
   "outputs": [],
   "source": [
    "# vsetko = vsetko[vsetko['class']!='']"
   ]
  },
  {
   "cell_type": "markdown",
   "metadata": {},
   "source": [
    "Odstranenie riadkov s prazdnou hodnotou class - tieto riadky by nam pri trenovani nepomohli"
   ]
  },
  {
   "cell_type": "code",
   "execution_count": 11,
   "metadata": {},
   "outputs": [],
   "source": [
    "nenumericke = vsetko.select_dtypes(exclude=numpy.number).columns\n",
    "modusy = {}\n",
    "for stlpec in nenumericke:\n",
    "    modusy[stlpec] = vsetko[stlpec].mode()\n",
    "vsetko = vsetko.replace(numpy.nan, value=modusy)\n"
   ]
  },
  {
   "cell_type": "markdown",
   "metadata": {},
   "source": [
    "Doplnenie kategorickych atributov najcastejsou hodnotou"
   ]
  },
  {
   "cell_type": "code",
   "execution_count": 12,
   "metadata": {},
   "outputs": [],
   "source": [
    "numericke = vsetko.select_dtypes(include=numpy.number).columns\n",
    "mediany = {}\n",
    "for stlpec in numericke:\n",
    "    mediany[stlpec] = vsetko[stlpec].median()\n",
    "medianove = vsetko.replace(numpy.nan, value=mediany)"
   ]
  },
  {
   "cell_type": "markdown",
   "metadata": {},
   "source": [
    "Doplnenie chybajucich hodnot numerickych atributov medianom"
   ]
  },
  {
   "cell_type": "code",
   "execution_count": 13,
   "metadata": {},
   "outputs": [],
   "source": [
    "priemery = {}\n",
    "priem = []\n",
    "\n",
    "def priemeraj(s): #s ako nazov stlpca pochopitelne...\n",
    "    for hodnota in vsetko[s].unique():\n",
    "        priemery[hodnota] = {}\n",
    "        for stlpec in numericke:\n",
    "            priemery[hodnota][stlpec] = vsetko[vsetko[s]==hodnota][stlpec].mean()\n",
    "    for hodnota in vsetko[s].unique():\n",
    "        priem.append(vsetko[vsetko[s]==hodnota].replace(numpy.nan, value=priemery[hodnota]))\n",
    "    return pd.concat(priem)\n"
   ]
  },
  {
   "cell_type": "code",
   "execution_count": 14,
   "metadata": {},
   "outputs": [],
   "source": [
    "priemerove = priemeraj('occupation')"
   ]
  },
  {
   "cell_type": "markdown",
   "metadata": {},
   "source": [
    "Doplnenie chybajucich numerickych atributov pomocou priemerov segmentov podla stlpca occupation."
   ]
  },
  {
   "cell_type": "code",
   "execution_count": 15,
   "metadata": {
    "collapsed": false
   },
   "outputs": [
    {
     "data": {
      "text/plain": [
       "array([[<matplotlib.axes._subplots.AxesSubplot object at 0x7f9a9e9bcd30>,\n        <matplotlib.axes._subplots.AxesSubplot object at 0x7f9a9e93fe10>],\n       [<matplotlib.axes._subplots.AxesSubplot object at 0x7f9a9e93b4a8>,\n        <matplotlib.axes._subplots.AxesSubplot object at 0x7f9a9e89fb00>]],\n      dtype=object)"
      ]
     },
     "execution_count": 15,
     "metadata": {},
     "output_type": "execute_result"
    },
    {
     "data": {
      "image/png": "[encoded data removed]",
      "text/plain": [
       "<Figure size 432x288 with 4 Axes>"
      ]
     },
     "metadata": {},
     "output_type": "display_data"
    }
   ],
   "source": [
    "priemerove.hist(bins=100, column=[\"T4U\", \"TT4\", \"T3\"])"
   ]
  },
  {
   "cell_type": "code",
   "execution_count": 16,
   "metadata": {},
   "outputs": [
    {
     "data": {
      "text/plain": [
       "array([[<matplotlib.axes._subplots.AxesSubplot object at 0x7f9a9e9a2208>,\n        <matplotlib.axes._subplots.AxesSubplot object at 0x7f9a9ea45550>],\n       [<matplotlib.axes._subplots.AxesSubplot object at 0x7f9a9ea78a90>,\n        <matplotlib.axes._subplots.AxesSubplot object at 0x7f9a9eac8710>]],\n      dtype=object)"
      ]
     },
     "execution_count": 16,
     "metadata": {},
     "output_type": "execute_result"
    },
    {
     "data": {
      "image/png": "[encoded data removed]",
      "text/plain": [
       "<Figure size 432x288 with 4 Axes>"
      ]
     },
     "metadata": {},
     "output_type": "display_data"
    }
   ],
   "source": [
    "medianove.hist(bins=100, column=[\"T4U\", \"TT4\", \"T3\"])"
   ]
  },
  {
   "cell_type": "code",
   "execution_count": 17,
   "metadata": {},
   "outputs": [
    {
     "data": {
      "text/plain": [
       "array([[<matplotlib.axes._subplots.AxesSubplot object at 0x7f9a9e45ce10>,\n        <matplotlib.axes._subplots.AxesSubplot object at 0x7f9a9e28ec18>],\n       [<matplotlib.axes._subplots.AxesSubplot object at 0x7f9a9e2285c0>,\n        <matplotlib.axes._subplots.AxesSubplot object at 0x7f9a9e247ef0>]],\n      dtype=object)"
      ]
     },
     "execution_count": 17,
     "metadata": {},
     "output_type": "execute_result"
    },
    {
     "data": {
      "image/png": "[encoded data removed]",
      "text/plain": [
       "<Figure size 432x288 with 4 Axes>"
      ]
     },
     "metadata": {},
     "output_type": "display_data"
    }
   ],
   "source": [
    "vsetko.hist(bins=100, column=[\"T4U\", \"TT4\", \"T3\"])\n"
   ]
  },
  {
   "cell_type": "markdown",
   "metadata": {},
   "source": [
    "Z vyssie uvedenych histogramov vyplyva, ze lepsie je pouzit doplnenie chybajucich hodnot pomocou priemerov segmentov."
   ]
  },
  {
   "cell_type": "code",
   "execution_count": 18,
   "metadata": {},
   "outputs": [
    {
     "data": {
      "text/plain": [
       "<matplotlib.axes._subplots.AxesSubplot at 0x7f9a9e0e0588>"
      ]
     },
     "execution_count": 18,
     "metadata": {},
     "output_type": "execute_result"
    },
    {
     "data": {
      "image/png": "[encoded data removed]",
      "text/plain": [
       "<Figure size 432x288 with 1 Axes>"
      ]
     },
     "metadata": {},
     "output_type": "display_data"
    }
   ],
   "source": [
    "priemerove.boxplot(column=[\"TT4\"])"
   ]
  },
  {
   "cell_type": "code",
   "execution_count": 19,
   "metadata": {},
   "outputs": [
    {
     "data": {
      "text/plain": [
       "<matplotlib.axes._subplots.AxesSubplot at 0x7f9a9de73cc0>"
      ]
     },
     "execution_count": 19,
     "metadata": {},
     "output_type": "execute_result"
    },
    {
     "data": {
      "image/png": "[encoded data removed]",
      "text/plain": [
       "<Figure size 432x288 with 1 Axes>"
      ]
     },
     "metadata": {},
     "output_type": "display_data"
    }
   ],
   "source": [
    "priemerove.boxplot(column=[\"T4U\", \"T3\"])"
   ]
  },
  {
   "cell_type": "code",
   "execution_count": 20,
   "metadata": {},
   "outputs": [],
   "source": [
    "vyhodeny_autlajery = priemerove[(numpy.abs(stats.zscore(priemerove.select_dtypes(numpy.number))) < 5).all(axis=1)]"
   ]
  },
  {
   "cell_type": "code",
   "execution_count": 21,
   "metadata": {},
   "outputs": [
    {
     "data": {
      "text/plain": [
       "<matplotlib.axes._subplots.AxesSubplot at 0x7f9a9ddd9358>"
      ]
     },
     "execution_count": 21,
     "metadata": {},
     "output_type": "execute_result"
    },
    {
     "data": {
      "image/png": "[encoded data removed]",
      "text/plain": [
       "<Figure size 432x288 with 1 Axes>"
      ]
     },
     "metadata": {},
     "output_type": "display_data"
    }
   ],
   "source": [
    "vyhodeny_autlajery.boxplot(column=[\"T4U\", \"T3\"])"
   ]
  },
  {
   "cell_type": "code",
   "execution_count": 22,
   "metadata": {},
   "outputs": [
    {
     "data": {
      "text/plain": [
       "<matplotlib.axes._subplots.AxesSubplot at 0x7f9a9ddc1ef0>"
      ]
     },
     "execution_count": 22,
     "metadata": {},
     "output_type": "execute_result"
    },
    {
     "data": {
      "image/png": "[encoded data removed]",
      "text/plain": [
       "<Figure size 432x288 with 1 Axes>"
      ]
     },
     "metadata": {},
     "output_type": "display_data"
    }
   ],
   "source": [
    "vyhodeny_autlajery.boxplot(column=[\"TT4\"])"
   ]
  },
  {
   "cell_type": "code",
   "execution_count": 23,
   "metadata": {},
   "outputs": [
    {
     "data": {
      "text/plain": [
       "17"
      ]
     },
     "execution_count": 23,
     "metadata": {},
     "output_type": "execute_result"
    }
   ],
   "source": [
    "len(priemerove) - len(vyhodeny_autlajery)"
   ]
  },
  {
   "cell_type": "markdown",
   "metadata": {},
   "source": [
    "Ocividne bolo odstranenych 58 riadkov"
   ]
  },
  {
   "cell_type": "code",
   "execution_count": 24,
   "metadata": {},
   "outputs": [
    {
     "data": {
      "text/plain": [
       "array([[<matplotlib.axes._subplots.AxesSubplot object at 0x7f9a9de6e278>,\n        <matplotlib.axes._subplots.AxesSubplot object at 0x7f9a9dd3be48>],\n       [<matplotlib.axes._subplots.AxesSubplot object at 0x7f9a9dce7780>,\n        <matplotlib.axes._subplots.AxesSubplot object at 0x7f9a9dc970b8>]],\n      dtype=object)"
      ]
     },
     "execution_count": 24,
     "metadata": {},
     "output_type": "execute_result"
    },
    {
     "data": {
      "image/png": "[encoded data removed]",
      "text/plain": [
       "<Figure size 432x288 with 4 Axes>"
      ]
     },
     "metadata": {},
     "output_type": "display_data"
    }
   ],
   "source": [
    "vyhodeny_autlajery.hist(bins=50, column=[\"T4U\", \"TT4\", \"T3\"])"
   ]
  },
  {
   "cell_type": "code",
   "execution_count": 25,
   "metadata": {},
   "outputs": [],
   "source": [
    "dolny_quantiles = priemerove.quantile(0.02)\n",
    "horny_quantiles = priemerove.quantile(0.98)"
   ]
  },
  {
   "cell_type": "markdown",
   "metadata": {},
   "source": [
    "Vyratanie kvantilov, ktorymi budeme nahradzati"
   ]
  },
  {
   "cell_type": "code",
   "execution_count": 26,
   "metadata": {},
   "outputs": [],
   "source": [
    "nahradeny_autlajery = priemerove.mask(priemerove.select_dtypes(numpy.number) < dolny_quantiles, dolny_quantiles, axis=1)\n",
    "nahradeny_autlajery = nahradeny_autlajery.mask(nahradeny_autlajery.select_dtypes(numpy.number) > horny_quantiles, horny_quantiles, axis=1)"
   ]
  },
  {
   "cell_type": "markdown",
   "metadata": {},
   "source": [
    "Nahradenie vyhchylenych hodnot kvantilmi."
   ]
  },
  {
   "cell_type": "code",
   "execution_count": 27,
   "metadata": {},
   "outputs": [
    {
     "data": {
      "text/plain": [
       "<matplotlib.axes._subplots.AxesSubplot at 0x7f9a9da96d30>"
      ]
     },
     "execution_count": 27,
     "metadata": {},
     "output_type": "execute_result"
    },
    {
     "data": {
      "image/png": "[encoded data removed]",
      "text/plain": [
       "<Figure size 432x288 with 1 Axes>"
      ]
     },
     "metadata": {},
     "output_type": "display_data"
    }
   ],
   "source": [
    "nahradeny_autlajery.boxplot(column=[\"T4U\", \"T3\"])"
   ]
  },
  {
   "cell_type": "code",
   "execution_count": 28,
   "metadata": {},
   "outputs": [
    {
     "data": {
      "text/plain": [
       "<matplotlib.axes._subplots.AxesSubplot at 0x7f9a9dabef60>"
      ]
     },
     "execution_count": 28,
     "metadata": {},
     "output_type": "execute_result"
    },
    {
     "data": {
      "image/png": "[encoded data removed]",
      "text/plain": [
       "<Figure size 432x288 with 1 Axes>"
      ]
     },
     "metadata": {},
     "output_type": "display_data"
    }
   ],
   "source": [
    "nahradeny_autlajery.boxplot(column=[\"TT4\"])"
   ]
  },
  {
   "cell_type": "code",
   "execution_count": 29,
   "metadata": {},
   "outputs": [
    {
     "data": {
      "text/plain": [
       "array([[<matplotlib.axes._subplots.AxesSubplot object at 0x7f9a9db1d550>,\n        <matplotlib.axes._subplots.AxesSubplot object at 0x7f9a9d99cc18>],\n       [<matplotlib.axes._subplots.AxesSubplot object at 0x7f9a9d9cb470>,\n        <matplotlib.axes._subplots.AxesSubplot object at 0x7f9a9d971dd8>]],\n      dtype=object)"
      ]
     },
     "execution_count": 29,
     "metadata": {},
     "output_type": "execute_result"
    },
    {
     "data": {
      "image/png": "[encoded data removed]",
      "text/plain": [
       "<Figure size 432x288 with 4 Axes>"
      ]
     },
     "metadata": {},
     "output_type": "display_data"
    }
   ],
   "source": [
    "nahradeny_autlajery.hist(bins=50, column=[\"T4U\", \"TT4\", \"T3\"])"
   ]
  },
  {
   "cell_type": "markdown",
   "metadata": {},
   "source": [
    "Zda sa, ze vyhodenie vychylenych hodnot je lepsie, nakolko vysledne rozdelenie je rovnomernejsie."
   ]
  },
  {
   "cell_type": "code",
   "execution_count": 30,
   "metadata": {},
   "outputs": [],
   "source": [
    "# barco = vyhodeny_autlajery.select_dtypes(numpy.number)\n",
    "# barco['class'] = vyhodeny_autlajery['class'] \n",
    "# sns.pairplot(barco, 'class')"
   ]
  },
  {
   "cell_type": "markdown",
   "metadata": {},
   "source": [
    "Rozdelenia hodnot sa predspracovanim zmenili len minimalne. \n",
    "Stlpec FTI zda sa, ze koreluje s hodnotou TT4"
   ]
  },
  {
   "cell_type": "code",
   "execution_count": 31,
   "metadata": {},
   "outputs": [],
   "source": [
    "vyhodeny_autlajery.to_csv('data/predspracovane_test.csv')"
   ]
  },
  {
   "cell_type": "code",
   "execution_count": 32,
   "metadata": {},
   "outputs": [],
   "source": []
  }
 ],
 "metadata": {
  "kernelspec": {
   "display_name": "Python 2",
   "language": "python",
   "name": "python2"
  },
  "language_info": {
   "codemirror_mode": {
    "name": "ipython",
    "version": 2
   },
   "file_extension": ".py",
   "mimetype": "text/x-python",
   "name": "python",
   "nbconvert_exporter": "python",
   "pygments_lexer": "ipython2",
   "version": "2.7.6"
  }
 },
 "nbformat": 4,
 "nbformat_minor": 0
}
