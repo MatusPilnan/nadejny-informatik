{
 "cells": [
  {
   "cell_type": "code",
   "execution_count": 282,
   "metadata": {
    "collapsed": true
   },
   "outputs": [],
   "source": [
    "import pandas as pd\n",
    "import numpy\n",
    "import json\n",
    "import dateparser\n",
    "import datetime\n",
    "import seaborn as sns\n",
    "import matplotlib as mpl\n",
    "sns.set_style('white', {'legend.frameon':True})\n",
    "mpl.rcParams['figure.figsize'] = 25, 10"
   ]
  },
  {
   "cell_type": "code",
   "execution_count": 283,
   "metadata": {
    "collapsed": true
   },
   "outputs": [],
   "source": [
    "\n",
    "def vek(vstup):\n",
    "    try:\n",
    "        vystup = int(abs(float(vstup)))/1000 if abs(float(vstup)) > 1000 else int(abs(float(vstup)))\n",
    "        if vystup is not int(vystup):\n",
    "            vystup *= 10\n",
    "        if vystup % 100 is 0:\n",
    "            vystup /= 100\n",
    "        return vystup\n",
    "    except ValueError:\n",
    "        return numpy.nan\n",
    "\n",
    "\n",
    "def datum(vstup):\n",
    "    formaty = ['%Y-%m-%d', '%Y/%m/%d', '%y-%m-%d', '%d/%m/%Y']\n",
    "    vstup = vstup[:10].strip()\n",
    "    if not len(vstup):\n",
    "        return numpy.nan\n",
    "    vystup = dateparser.parse(vstup, formaty)\n",
    "    if vystup is None:\n",
    "        raise Exception('Nenaznamy format datumu:' + vstup)\n",
    "    if vystup.year > 2018:\n",
    "        vystup = vystup - datetime.timedelta(36500)     \n",
    "    if vystup.year < 1900:\n",
    "        vystup = datetime.datetime(1900 + vystup.year % 100, vystup.month, vystup.day)\n",
    "    return vystup\n",
    "\n",
    "\n",
    "konvertovace = {\n",
    "    'age' : vek,\n",
    "    'date_of_birth': datum\n",
    "}\n",
    "\n",
    "personalne = pd.read_csv(\"data/personal_train.csv\", na_values='?', index_col=0, converters=konvertovace, )"
   ]
  },
  {
   "cell_type": "code",
   "execution_count": 284,
   "metadata": {
    "collapsed": false
   },
   "outputs": [],
   "source": [
    "# personalne[personalne['date_of_birth'].year + personalne['age'] < 2017]\n",
    "# def vypisi(row):\n",
    "#     if not pd.isna(row['date_of_birth']) and (row['date_of_birth'].year + row['age'] < 2017 or row['date_of_birth'].year + row['age'] > 2018):\n",
    "#         print(row)\n",
    "# \n",
    "# personalne.apply(vypisi, axis=1)"
   ]
  },
  {
   "cell_type": "code",
   "execution_count": 285,
   "metadata": {},
   "outputs": [
    {
     "data": {
      "text/html": [
       "<div>\n",
       "<style scoped>\n",
       "    .dataframe tbody tr th:only-of-type {\n",
       "        vertical-align: middle;\n",
       "    }\n",
       "\n",
       "    .dataframe tbody tr th {\n",
       "        vertical-align: top;\n",
       "    }\n",
       "\n",
       "    .dataframe thead th {\n",
       "        text-align: right;\n",
       "    }\n",
       "</style>\n",
       "<table border=\"1\" class=\"dataframe\">\n",
       "  <thead>\n",
       "    <tr style=\"text-align: right;\">\n",
       "      <th></th>\n",
       "      <th>name</th>\n",
       "      <th>address</th>\n",
       "      <th>age</th>\n",
       "      <th>sex</th>\n",
       "      <th>date_of_birth</th>\n",
       "    </tr>\n",
       "  </thead>\n",
       "  <tbody>\n",
       "    <tr>\n",
       "      <th>2131</th>\n",
       "      <td>Susana Marshall</td>\n",
       "      <td>96194 Lindsay Viaduct\\nMillertown, WY 92869</td>\n",
       "      <td>455.0</td>\n",
       "      <td>F</td>\n",
       "      <td>1963-05-03</td>\n",
       "    </tr>\n",
       "  </tbody>\n",
       "</table>\n",
       "</div>"
      ],
      "text/plain": [
       "<div>\n",
       "<style scoped>\n",
       "    .dataframe tbody tr th:only-of-type {\n",
       "        vertical-align: middle;\n",
       "    }\n",
       "\n",
       "    .dataframe tbody tr th {\n",
       "        vertical-align: top;\n",
       "    }\n",
       "\n",
       "    .dataframe thead th {\n",
       "        text-align: right;\n",
       "    }\n",
       "</style>\n",
       "<table border=\"1\" class=\"dataframe\">\n",
       "  <thead>\n",
       "    <tr style=\"text-align: right;\">\n",
       "      <th></th>\n",
       "      <th>name</th>\n",
       "      <th>address</th>\n",
       "      <th>age</th>\n",
       "      <th>sex</th>\n",
       "      <th>date_of_birth</th>\n",
       "    </tr>\n",
       "  </thead>\n",
       "  <tbody>\n",
       "    <tr>\n",
       "      <th>2131</th>\n",
       "      <td>Susana Marshall</td>\n",
       "      <td>96194 Lindsay Viaduct\\nMillertown, WY 92869</td>\n",
       "      <td>455.0</td>\n",
       "      <td>F</td>\n",
       "      <td>1963-05-03</td>\n",
       "    </tr>\n",
       "  </tbody>\n",
       "</table>\n",
       "</div>"
      ]
     },
     "execution_count": 285,
     "metadata": {},
     "output_type": "execute_result"
    }
   ],
   "source": [
    "personalne[personalne['age'] > 100]"
   ]
  },
  {
   "cell_type": "markdown",
   "metadata": {},
   "source": [
    "Nacitane personalne data, s opravenym vekom a datumom narodenia."
   ]
  },
  {
   "cell_type": "code",
   "execution_count": 286,
   "metadata": {},
   "outputs": [],
   "source": [
    "bulo = lambda vstup: numpy.nan if pd.isna(vstup) or len(str(vstup).strip()) is 0 else str(vstup).strip().lower().split('.')[0][0] == 't'\n",
    "classa = lambda vstup: vstup.lower().split('.|')[0]\n",
    "\n",
    "\n",
    "def js(vstup):\n",
    "    try:\n",
    "        return str(vstup).replace(\"'\", '\"')\n",
    "    except json.JSONDecodeError:\n",
    "        pass\n",
    "\n",
    "konvertovace = {\n",
    "    \"FTI measured\": bulo,\n",
    "    \"tumor\": bulo,\n",
    "    \"lithium\": bulo,\n",
    "    \"thyroid surgery\": bulo,\n",
    "    \"I131 treatment\": bulo,\n",
    "    \"goitre\": bulo,\n",
    "    \"hypopituitary\": bulo,\n",
    "    \"query on thyroxine\": bulo,\n",
    "    \"T3 measured\": bulo,\n",
    "    \"TBG measured\": bulo,\n",
    "    \"pregnant\": bulo,\n",
    "    \"class\": classa,\n",
    "    \"medical_info\": js\n",
    "}\n",
    "other = pd.read_csv(\"data/other_train.csv\", na_values=['?', '??', ' ?'], index_col=0, true_values=['t'],\n",
    "                    false_values=['f'],\n",
    "                    converters=konvertovace)\n",
    "other = other.drop(columns=['TBG'])\n"
   ]
  },
  {
   "cell_type": "markdown",
   "metadata": {
    "collapsed": true
   },
   "source": [
    "Nacitane ostatne udaje s opravenymi boolovskymi hodnotami a vyhodenym prazdnym stlpcom TBG"
   ]
  },
  {
   "cell_type": "code",
   "execution_count": 287,
   "metadata": {
    "collapsed": true
   },
   "outputs": [],
   "source": [
    "def rozober_json(vstup):\n",
    "    try:\n",
    "        return pd.Series(json.loads(vstup))\n",
    "    except json.JSONDecodeError:\n",
    "        return pd.Series(json.loads('{}'))\n",
    "other = other.join(other['medical_info'].apply(rozober_json))\n",
    "other = other.drop(columns='medical_info')"
   ]
  },
  {
   "cell_type": "markdown",
   "metadata": {},
   "source": [
    "Rozoberanie jsonu v medical_info stlpci na jednotlive stlpce"
   ]
  },
  {
   "cell_type": "code",
   "execution_count": 288,
   "metadata": {
    "collapsed": false
   },
   "outputs": [],
   "source": [
    "for stlpec in ['TSH measured', 'query hyperthyroid', 'TT4 measured', 'on antithyroid medication', 'sick', 'T4U measured', 'psych', 'query hypothyroid']:\n",
    "    other[stlpec] = other[stlpec].apply(bulo)\n",
    "\n",
    "other = other.replace('?', numpy.nan)"
   ]
  },
  {
   "cell_type": "markdown",
   "metadata": {},
   "source": [
    "Oprava pridanych boolovskych stlpcov a nahradenie ? za NaN"
   ]
  },
  {
   "cell_type": "code",
   "execution_count": 289,
   "metadata": {
    "collapsed": false
   },
   "outputs": [],
   "source": [
    "vsetko = other.merge(personalne, on=('name', 'address'))\n",
    "vsetko = vsetko.replace(to_replace=[None], value=numpy.nan)"
   ]
  },
  {
   "cell_type": "markdown",
   "metadata": {
    "collapsed": false
   },
   "source": [
    "Spojenie suborov a nahradenie None za NaN"
   ]
  },
  {
   "cell_type": "code",
   "execution_count": 290,
   "metadata": {},
   "outputs": [],
   "source": [
    "def agreguj(vstup):\n",
    "    vstup = vstup.reset_index()\n",
    "    for hodnota in vstup.values:\n",
    "        if not pd.isna(hodnota[1]) and str(hodnota[1]).strip() != '':\n",
    "            return hodnota[1]\n",
    "    return numpy.nan"
   ]
  },
  {
   "cell_type": "code",
   "execution_count": 291,
   "metadata": {},
   "outputs": [],
   "source": [
    "vsetko = vsetko.groupby(['name', 'address']).aggregate(agreguj).reset_index()"
   ]
  },
  {
   "cell_type": "markdown",
   "metadata": {},
   "source": [
    "Spojenie rovnakych riadkov. Momentalne berieme prvu neprazdnu hodnotu. V pripade ze by bolo neprazdnych hodnot viac, dal by sa pouzit priemer pre numericke atributy a modus pre kategoricke, pripadne najcastejsia hodnota v celom datasete ak by pocet vyskytov bol rovnaky."
   ]
  },
  {
   "cell_type": "code",
   "execution_count": 292,
   "metadata": {},
   "outputs": [],
   "source": [
    "vsetko.FTI = pd.to_numeric(vsetko.FTI)"
   ]
  },
  {
   "cell_type": "code",
   "execution_count": 293,
   "metadata": {
    "collapsed": false
   },
   "outputs": [],
   "source": [
    "vsetko = vsetko[vsetko['class']!='']"
   ]
  },
  {
   "cell_type": "markdown",
   "metadata": {},
   "source": [
    "Odstranenie riadkov s prazdnou hodnotou class - tieto riadky by nam pri trenovani nepomohli"
   ]
  },
  {
   "cell_type": "code",
   "execution_count": 294,
   "metadata": {},
   "outputs": [],
   "source": [
    "nenumericke = vsetko.select_dtypes(exclude=numpy.number).columns\n",
    "modusy = {}\n",
    "for stlpec in nenumericke:\n",
    "    modusy[stlpec] = vsetko[stlpec].mode()\n",
    "modusove = vsetko.replace(numpy.nan, value=modusy)\n"
   ]
  },
  {
   "cell_type": "markdown",
   "metadata": {},
   "source": [
    "Doplnenie kategorickych atributov najcastejsou hodnotou"
   ]
  },
  {
   "cell_type": "code",
   "execution_count": 295,
   "metadata": {},
   "outputs": [],
   "source": [
    "numericke = vsetko.select_dtypes(include=numpy.number).columns\n",
    "mediany = {}\n",
    "for stlpec in numericke:\n",
    "    mediany[stlpec] = vsetko[stlpec].median()\n",
    "medianove = vsetko.replace(numpy.nan, value=mediany)"
   ]
  },
  {
   "cell_type": "markdown",
   "metadata": {},
   "source": [
    "Doplnenie chybajucich hodnot numerickych atributov medianom"
   ]
  },
  {
   "cell_type": "code",
   "execution_count": 296,
   "metadata": {},
   "outputs": [],
   "source": [
    "medianove.to_csv(path_or_buf='data/opravene_spojene_medianom.csv')"
   ]
  },
  {
   "cell_type": "code",
   "execution_count": 297,
   "metadata": {},
   "outputs": [],
   "source": [
    "def priemeraj(s): #s ako nazov stlpca pochopitelne...\n",
    "    priemery = {}\n",
    "    for hodnota in vsetko[s].unique():\n",
    "        priemery[hodnota] = {}\n",
    "        for stlpec in numericke:\n",
    "            priemery[hodnota][stlpec] = vsetko[vsetko[s]==hodnota][stlpec].mean()\n",
    "    priemerove = []\n",
    "    for stlpec in numericke:\n",
    "        for hodnota in vsetko[s].unique():\n",
    "            priemerove.append(vsetko[vsetko[s]==hodnota].replace(numpy.nan, value=priemery[hodnota]))\n",
    "    return pd.concat(priemerove)\n"
   ]
  },
  {
   "cell_type": "code",
   "execution_count": 298,
   "metadata": {},
   "outputs": [],
   "source": [
    "priemerove = priemeraj('occupation')"
   ]
  },
  {
   "cell_type": "markdown",
   "metadata": {},
   "source": [
    "Doplnenie chybajucich numerickych atributov pomocou linearnej regresie"
   ]
  },
  {
   "cell_type": "code",
   "execution_count": 299,
   "metadata": {},
   "outputs": [],
   "source": [
    "priemerove.to_csv(path_or_buf='data/opravene_spojene_priemerove.csv')"
   ]
  },
  {
   "cell_type": "code",
   "execution_count": 300,
   "metadata": {
    "collapsed": false
   },
   "outputs": [
    {
     "data": {
      "text/plain": [
       "array([[<matplotlib.axes._subplots.AxesSubplot object at 0x7f7e7ecfbb00>,\n        <matplotlib.axes._subplots.AxesSubplot object at 0x7f7e7ebdf710>],\n       [<matplotlib.axes._subplots.AxesSubplot object at 0x7f7e80194d68>,\n        <matplotlib.axes._subplots.AxesSubplot object at 0x7f7e80529400>]],\n      dtype=object)"
      ]
     },
     "execution_count": 300,
     "metadata": {},
     "output_type": "execute_result"
    },
    {
     "data": {
      "image/png": "[encoded data removed]",
      "text/plain": [
       "<Figure size 1800x720 with 4 Axes>"
      ]
     },
     "metadata": {},
     "output_type": "display_data"
    }
   ],
   "source": [
    "priemerove.hist(bins=100, column=[\"T4U\", \"TT4\", \"T3\"])"
   ]
  },
  {
   "cell_type": "code",
   "execution_count": 301,
   "metadata": {},
   "outputs": [
    {
     "data": {
      "text/plain": [
       "array([[<matplotlib.axes._subplots.AxesSubplot object at 0x7f7e7aa1a3c8>,\n        <matplotlib.axes._subplots.AxesSubplot object at 0x7f7e7a5494a8>],\n       [<matplotlib.axes._subplots.AxesSubplot object at 0x7f7e7a6a2b00>,\n        <matplotlib.axes._subplots.AxesSubplot object at 0x7f7e7a790198>]],\n      dtype=object)"
      ]
     },
     "execution_count": 301,
     "metadata": {},
     "output_type": "execute_result"
    },
    {
     "data": {
      "image/png": "[encoded data removed]",
      "text/plain": [
       "<Figure size 1800x720 with 4 Axes>"
      ]
     },
     "metadata": {},
     "output_type": "display_data"
    }
   ],
   "source": [
    "medianove.hist(bins=100, column=[\"T4U\", \"TT4\", \"T3\"])"
   ]
  },
  {
   "cell_type": "code",
   "execution_count": 302,
   "metadata": {},
   "outputs": [
    {
     "data": {
      "text/plain": [
       "array([[<matplotlib.axes._subplots.AxesSubplot object at 0x7f7e7a363358>,\n        <matplotlib.axes._subplots.AxesSubplot object at 0x7f7e7a20b400>],\n       [<matplotlib.axes._subplots.AxesSubplot object at 0x7f7e7a2209e8>,\n        <matplotlib.axes._subplots.AxesSubplot object at 0x7f7e7a1d7080>]],\n      dtype=object)"
      ]
     },
     "execution_count": 302,
     "metadata": {},
     "output_type": "execute_result"
    },
    {
     "data": {
      "image/png": "[encoded data removed]",
      "text/plain": [
       "<Figure size 1800x720 with 4 Axes>"
      ]
     },
     "metadata": {},
     "output_type": "display_data"
    }
   ],
   "source": [
    "vsetko.hist(bins=100, column=[\"T4U\", \"TT4\", \"T3\"])"
   ]
  },
  {
   "cell_type": "code",
   "execution_count": 303,
   "metadata": {},
   "outputs": [
    {
     "data": {
      "text/plain": [
       "False"
      ]
     },
     "execution_count": 303,
     "metadata": {},
     "output_type": "execute_result"
    }
   ],
   "source": [
    "vsetko.equals(linearne)"
   ]
  },
  {
   "cell_type": "code",
   "execution_count": 304,
   "metadata": {},
   "outputs": [],
   "source": [
    ""
   ]
  },
  {
   "cell_type": "code",
   "execution_count": 304,
   "metadata": {},
   "outputs": [],
   "source": []
  }
 ],
 "metadata": {
  "kernelspec": {
   "display_name": "Python 2",
   "language": "python",
   "name": "python2"
  },
  "language_info": {
   "codemirror_mode": {
    "name": "ipython",
    "version": 2
   },
   "file_extension": ".py",
   "mimetype": "text/x-python",
   "name": "python",
   "nbconvert_exporter": "python",
   "pygments_lexer": "ipython2",
   "version": "2.7.6"
  }
 },
 "nbformat": 4,
 "nbformat_minor": 0
}
