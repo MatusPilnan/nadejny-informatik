{
 "cells": [
  {
   "cell_type": "code",
   "execution_count": 1,
   "metadata": {},
   "outputs": [],
   "source": [
    "import pandas as pd\n",
    "import numpy\n",
    "import json\n",
    "import dateparser\n",
    "import datetime\n",
    "import seaborn as sns\n",
    "import matplotlib as mpl\n",
    "from scipy import stats\n",
    "sns.set_style('white', {'legend.frameon':True})\n",
    "mpl.rcParams['figure.figsize'] = 25, 10\n",
    "\n",
    "SUBOR_PERSONALNYCH = \"data/personal_valid.csv\"\n",
    "SUBOR_OSTATNYCH = \"data/other_valid.csv\"\n",
    "SUBOR_VYSTUP = \"data/predspracovane_medianove_valid.csv\"\n",
    "SUBOR_ULOZENYCH_HODNOT = \"data/ulozene.json\"\n",
    "NACITAJ_ULOZENE = True\n",
    "VYHOD_RIADKY_S_PRAZDNOU_KLASOU = True\n",
    "VYHOD_AUTLAJEROV = False\n"
   ]
  },
  {
   "cell_type": "markdown",
   "metadata": {},
   "source": [
    "Mediany a priemery sa nacitavaju alebo ukladaju do JSONa a vsetky mozne nastavovania sme dali na zaciatok.\n",
    "Tak hadam to teraz uz je znovupouzitelnejsie."
   ]
  },
  {
   "cell_type": "code",
   "execution_count": 2,
   "metadata": {},
   "outputs": [],
   "source": [
    "mediany = {}\n",
    "priemery = {}\n",
    "\n",
    "\n",
    "def nacitajUlozeneHodnoty(nazov_suboru):\n",
    "    with open(nazov_suboru, 'r') as subor:\n",
    "        hodnoty = json.load(subor)\n",
    "    return hodnoty[\"priemery\"], hodnoty[\"mediany\"]\n",
    "\n",
    "\n",
    "if NACITAJ_ULOZENE:\n",
    "    priemery, mediany = nacitajUlozeneHodnoty(SUBOR_ULOZENYCH_HODNOT)\n"
   ]
  },
  {
   "cell_type": "code",
   "execution_count": 3,
   "metadata": {},
   "outputs": [],
   "source": [
    "\n",
    "def vek(vstup):\n",
    "    try:\n",
    "        vystup = int(abs(float(vstup)))/1000 if abs(float(vstup)) > 1000 else int(abs(float(vstup)))\n",
    "        if vystup is not int(vystup):\n",
    "            vystup *= 10\n",
    "        if vystup % 100 is 0:\n",
    "            vystup /= 100\n",
    "        return vystup\n",
    "    except ValueError:\n",
    "        return numpy.nan\n",
    "\n",
    "\n",
    "def datum(vstup):\n",
    "    formaty = ['%Y-%m-%d', '%Y/%m/%d', '%y-%m-%d', '%d/%m/%Y']\n",
    "    vstup = vstup[:10].strip()\n",
    "    if not len(vstup):\n",
    "        return numpy.nan\n",
    "    vystup = dateparser.parse(vstup, formaty)\n",
    "    if vystup is None:\n",
    "        raise Exception('Nenaznamy format datumu:' + vstup)\n",
    "    if vystup.year > 2018:\n",
    "        vystup = vystup - datetime.timedelta(36500)     \n",
    "    if vystup.year < 1900:\n",
    "        vystup = datetime.datetime(1900 + vystup.year % 100, vystup.month, vystup.day)\n",
    "    return vystup\n",
    "\n",
    "\n",
    "konvertovace = {\n",
    "    'age' : vek,\n",
    "    'date_of_birth': datum\n",
    "}\n",
    "\n",
    "personalne = pd.read_csv(SUBOR_PERSONALNYCH, na_values='?', index_col=0, converters=konvertovace, )\n",
    "\n"
   ]
  },
  {
   "cell_type": "markdown",
   "metadata": {},
   "source": [
    "Nacitane personalne data, s opravenym vekom a datumom narodenia."
   ]
  },
  {
   "cell_type": "code",
   "execution_count": 4,
   "metadata": {},
   "outputs": [],
   "source": [
    "bulo = lambda vstup: numpy.nan if pd.isna(vstup) or len(str(vstup).strip()) is 0 else str(vstup).strip().lower().split('.')[0][0] == 't'\n",
    "classa = lambda vstup: vstup.lower().split('.|')[0]\n",
    "trimho = lambda vstup: vstup.strip()\n",
    "\n",
    "\n",
    "def js(vstup):\n",
    "    try:\n",
    "        return str(vstup).replace(\"'\", '\"')\n",
    "    except json.JSONDecodeError:\n",
    "        pass\n",
    "\n",
    "konvertovace = {\n",
    "    \"FTI measured\": bulo,\n",
    "    \"tumor\": bulo,\n",
    "    \"lithium\": bulo,\n",
    "    \"thyroid surgery\": bulo,\n",
    "    \"I131 treatment\": bulo,\n",
    "    \"goitre\": bulo,\n",
    "    \"hypopituitary\": bulo,\n",
    "    \"query on thyroxine\": bulo,\n",
    "    \"T3 measured\": bulo,\n",
    "    \"TBG measured\": bulo,\n",
    "    \"pregnant\": bulo,\n",
    "    \"class\": classa,\n",
    "    \"medical_info\": js,\n",
    "    \"education\": trimho\n",
    "}\n",
    "other = pd.read_csv(SUBOR_OSTATNYCH, na_values=['?', '??', ' ?'], index_col=0, true_values=['t'],\n",
    "                    false_values=['f'],\n",
    "                    converters=konvertovace)\n",
    "other = other.drop(columns=['TBG'])\n"
   ]
  },
  {
   "cell_type": "markdown",
   "metadata": {
    "collapsed": true
   },
   "source": [
    "Nacitane ostatne udaje s opravenymi boolovskymi hodnotami a vyhodenym prazdnym stlpcom TBG"
   ]
  },
  {
   "cell_type": "code",
   "execution_count": 5,
   "metadata": {},
   "outputs": [],
   "source": [
    "def rozober_json(vstup):\n",
    "    try:\n",
    "        return pd.Series(json.loads(vstup))\n",
    "    except json.JSONDecodeError:\n",
    "        return pd.Series(json.loads('{}'))\n",
    "other = other.join(other['medical_info'].apply(rozober_json))\n",
    "other = other.drop(columns='medical_info')"
   ]
  },
  {
   "cell_type": "markdown",
   "metadata": {},
   "source": [
    "Rozoberanie jsonu v medical_info stlpci na jednotlive stlpce"
   ]
  },
  {
   "cell_type": "code",
   "execution_count": 6,
   "metadata": {},
   "outputs": [],
   "source": [
    "for stlpec in ['TSH measured', 'query hyperthyroid', 'TT4 measured', 'on antithyroid medication', 'sick', 'T4U measured', 'psych', 'query hypothyroid']:\n",
    "    other[stlpec] = other[stlpec].apply(bulo)\n",
    "\n",
    "other = other.replace(to_replace=r'^\\?.*$', value=numpy.nan, regex=True)"
   ]
  },
  {
   "cell_type": "markdown",
   "metadata": {},
   "source": [
    "Oprava pridanych boolovskych stlpcov a nahradenie ? za NaN"
   ]
  },
  {
   "cell_type": "code",
   "execution_count": 7,
   "metadata": {},
   "outputs": [],
   "source": [
    "vsetko = other.merge(personalne, on=('name', 'address'))\n",
    "vsetko = vsetko.replace(to_replace=[None], value=numpy.nan)"
   ]
  },
  {
   "cell_type": "markdown",
   "metadata": {},
   "source": [
    "Spojenie suborov a nahradenie None za NaN"
   ]
  },
  {
   "cell_type": "code",
   "execution_count": 8,
   "metadata": {},
   "outputs": [],
   "source": [
    "def agreguj(vstup):\n",
    "    vstup = vstup.reset_index()\n",
    "    for hodnota in vstup.values:\n",
    "        if not pd.isna(hodnota[1]) and str(hodnota[1]).strip() != '':\n",
    "            return hodnota[1]\n",
    "    return numpy.nan\n"
   ]
  },
  {
   "cell_type": "code",
   "execution_count": 9,
   "metadata": {},
   "outputs": [],
   "source": [
    "vsetko = vsetko.groupby(['name', 'address']).aggregate(agreguj).reset_index()"
   ]
  },
  {
   "cell_type": "markdown",
   "metadata": {},
   "source": [
    "Spojenie rovnakych riadkov. Momentalne berieme prvu neprazdnu hodnotu. V pripade ze by bolo neprazdnych hodnot viac, dal by sa pouzit priemer pre numericke atributy a modus pre kategoricke, pripadne najcastejsia hodnota v celom datasete ak by pocet vyskytov bol rovnaky."
   ]
  },
  {
   "cell_type": "code",
   "execution_count": 10,
   "metadata": {},
   "outputs": [],
   "source": [
    "vsetko.FTI = pd.to_numeric(vsetko.FTI)"
   ]
  },
  {
   "cell_type": "code",
   "execution_count": 11,
   "metadata": {},
   "outputs": [],
   "source": [
    "if VYHOD_RIADKY_S_PRAZDNOU_KLASOU:\n",
    "    vsetko = vsetko[vsetko['class']!='']\n"
   ]
  },
  {
   "cell_type": "markdown",
   "metadata": {},
   "source": [
    "Odstranenie riadkov s prazdnou hodnotou class - tieto riadky by nam pri trenovani nepomohli"
   ]
  },
  {
   "cell_type": "code",
   "execution_count": 12,
   "metadata": {},
   "outputs": [],
   "source": [
    "nenumericke = vsetko.select_dtypes(exclude=numpy.number).columns\n",
    "modusy = {}\n",
    "for stlpec in nenumericke:\n",
    "    modusy[stlpec] = vsetko[stlpec].mode()\n",
    "vsetko = vsetko.replace(numpy.nan, value=modusy)\n"
   ]
  },
  {
   "cell_type": "markdown",
   "metadata": {},
   "source": [
    "Doplnenie kategorickych atributov najcastejsou hodnotou"
   ]
  },
  {
   "cell_type": "code",
   "execution_count": 13,
   "metadata": {},
   "outputs": [],
   "source": [
    "numericke = vsetko.select_dtypes(include=numpy.number).columns\n",
    "if not NACITAJ_ULOZENE:\n",
    "    for stlpec in numericke:\n",
    "        mediany[stlpec] = vsetko[stlpec].median()\n",
    "medianove = vsetko.fillna(mediany)\n",
    "# print(mediany)\n",
    "# vsetko.info()"
   ]
  },
  {
   "cell_type": "markdown",
   "metadata": {},
   "source": [
    "Doplnenie chybajucich hodnot numerickych atributov medianom"
   ]
  },
  {
   "cell_type": "code",
   "execution_count": 14,
   "metadata": {},
   "outputs": [],
   "source": [
    "priem = []\n",
    "\n",
    "\n",
    "def priemeraj(s): #s ako nazov stlpca pochopitelne...\n",
    "    if not NACITAJ_ULOZENE:\n",
    "        for hodnota in vsetko[s].unique():\n",
    "            priemery[hodnota] = {}\n",
    "            for stlpec in numericke:\n",
    "                priemery[hodnota][stlpec] = vsetko[vsetko[s]==hodnota][stlpec].mean()\n",
    "        \n",
    "    for hodnota in vsetko[s].unique():\n",
    "        priem.append(vsetko[vsetko[s]==hodnota].replace(numpy.nan, value=priemery[hodnota]))\n",
    "    return pd.concat(priem)\n"
   ]
  },
  {
   "cell_type": "code",
   "execution_count": 15,
   "metadata": {},
   "outputs": [],
   "source": [
    "priemerove = priemeraj('occupation')"
   ]
  },
  {
   "cell_type": "code",
   "execution_count": 16,
   "metadata": {},
   "outputs": [],
   "source": [
    "if not NACITAJ_ULOZENE:\n",
    "    subor = open(SUBOR_ULOZENYCH_HODNOT, \"w\")\n",
    "    udaje = {}\n",
    "    udaje[\"mediany\"] = mediany\n",
    "    udaje[\"priemery\"] = priemery\n",
    "    json.dump(udaje, subor)\n",
    "    subor.close()\n",
    "\n"
   ]
  },
  {
   "cell_type": "markdown",
   "metadata": {},
   "source": [
    "Doplnenie chybajucich numerickych atributov pomocou priemerov segmentov podla stlpca occupation."
   ]
  },
  {
   "cell_type": "code",
   "execution_count": 17,
   "metadata": {},
   "outputs": [
    {
     "data": {
      "text/plain": [
       "array([[<matplotlib.axes._subplots.AxesSubplot object at 0x7f830351b358>,\n",
       "        <matplotlib.axes._subplots.AxesSubplot object at 0x7f83029c8160>],\n",
       "       [<matplotlib.axes._subplots.AxesSubplot object at 0x7f8303556dd8>,\n",
       "        <matplotlib.axes._subplots.AxesSubplot object at 0x7f83035b4748>]],\n",
       "      dtype=object)"
      ]
     },
     "execution_count": 17,
     "metadata": {},
     "output_type": "execute_result"
    },
    {
     "data": {
      "image/png": "[encoded data removed]",
      "text/plain": [
       "<Figure size 432x288 with 4 Axes>"
      ]
     },
     "metadata": {
      "needs_background": "light"
     },
     "output_type": "display_data"
    }
   ],
   "source": [
    "priemerove.hist(bins=100, column=[\"T4U\", \"TT4\", \"T3\"])"
   ]
  },
  {
   "cell_type": "code",
   "execution_count": 18,
   "metadata": {},
   "outputs": [
    {
     "data": {
      "text/plain": [
       "array([[<matplotlib.axes._subplots.AxesSubplot object at 0x7f830350dd30>,\n",
       "        <matplotlib.axes._subplots.AxesSubplot object at 0x7f8303200320>],\n",
       "       [<matplotlib.axes._subplots.AxesSubplot object at 0x7f83031de630>,\n",
       "        <matplotlib.axes._subplots.AxesSubplot object at 0x7f83034c4710>]],\n",
       "      dtype=object)"
      ]
     },
     "execution_count": 18,
     "metadata": {},
     "output_type": "execute_result"
    },
    {
     "data": {
      "image/png": "[encoded data removed]",
      "text/plain": [
       "<Figure size 432x288 with 4 Axes>"
      ]
     },
     "metadata": {
      "needs_background": "light"
     },
     "output_type": "display_data"
    }
   ],
   "source": [
    "medianove.hist(bins=100, column=[\"T4U\", \"TT4\", \"T3\"])"
   ]
  },
  {
   "cell_type": "code",
   "execution_count": 19,
   "metadata": {},
   "outputs": [
    {
     "data": {
      "text/plain": [
       "array([[<matplotlib.axes._subplots.AxesSubplot object at 0x7f8302ff4358>,\n",
       "        <matplotlib.axes._subplots.AxesSubplot object at 0x7f8302e0a4e0>],\n",
       "       [<matplotlib.axes._subplots.AxesSubplot object at 0x7f8302dc1e10>,\n",
       "        <matplotlib.axes._subplots.AxesSubplot object at 0x7f8302de77b8>]],\n",
       "      dtype=object)"
      ]
     },
     "execution_count": 19,
     "metadata": {},
     "output_type": "execute_result"
    },
    {
     "data": {
      "image/png": "[encoded data removed]",
      "text/plain": [
       "<Figure size 432x288 with 4 Axes>"
      ]
     },
     "metadata": {
      "needs_background": "light"
     },
     "output_type": "display_data"
    }
   ],
   "source": [
    "vsetko.hist(bins=100, column=[\"T4U\", \"TT4\", \"T3\"])\n"
   ]
  },
  {
   "cell_type": "markdown",
   "metadata": {},
   "source": [
    "Z vyssie uvedenych histogramov vyplyva, ze lepsie je pouzit doplnenie chybajucich hodnot pomocou priemerov segmentov."
   ]
  },
  {
   "cell_type": "code",
   "execution_count": 20,
   "metadata": {},
   "outputs": [
    {
     "data": {
      "text/plain": [
       "<matplotlib.axes._subplots.AxesSubplot at 0x7f8302aec4a8>"
      ]
     },
     "execution_count": 20,
     "metadata": {},
     "output_type": "execute_result"
    },
    {
     "data": {
      "image/png": "[encoded data removed]",
      "text/plain": [
       "<Figure size 432x288 with 1 Axes>"
      ]
     },
     "metadata": {
      "needs_background": "light"
     },
     "output_type": "display_data"
    }
   ],
   "source": [
    "priemerove.boxplot(column=[\"TT4\"])"
   ]
  },
  {
   "cell_type": "code",
   "execution_count": 21,
   "metadata": {},
   "outputs": [
    {
     "data": {
      "text/plain": [
       "<matplotlib.axes._subplots.AxesSubplot at 0x7f83030a4a90>"
      ]
     },
     "execution_count": 21,
     "metadata": {},
     "output_type": "execute_result"
    },
    {
     "data": {
      "image/png": "[encoded data removed]",
      "text/plain": [
       "<Figure size 432x288 with 1 Axes>"
      ]
     },
     "metadata": {
      "needs_background": "light"
     },
     "output_type": "display_data"
    }
   ],
   "source": [
    "priemerove.boxplot(column=[\"T4U\", \"T3\"])"
   ]
  },
  {
   "cell_type": "code",
   "execution_count": 22,
   "metadata": {},
   "outputs": [],
   "source": [
    "vyhodeny_autlajery = medianove\n",
    "if VYHOD_AUTLAJEROV:\n",
    "    vyhodeny_autlajery = medianove[(numpy.abs(stats.zscore(medianove.select_dtypes(numpy.number))) < 5).all(axis=1)]\n"
   ]
  },
  {
   "cell_type": "code",
   "execution_count": 23,
   "metadata": {},
   "outputs": [
    {
     "data": {
      "text/plain": [
       "<matplotlib.axes._subplots.AxesSubplot at 0x7f83028f1438>"
      ]
     },
     "execution_count": 23,
     "metadata": {},
     "output_type": "execute_result"
    },
    {
     "data": {
      "image/png": "[encoded data removed]",
      "text/plain": [
       "<Figure size 432x288 with 1 Axes>"
      ]
     },
     "metadata": {
      "needs_background": "light"
     },
     "output_type": "display_data"
    }
   ],
   "source": [
    "vyhodeny_autlajery.boxplot(column=[\"T4U\", \"T3\"])"
   ]
  },
  {
   "cell_type": "code",
   "execution_count": 24,
   "metadata": {},
   "outputs": [
    {
     "data": {
      "text/plain": [
       "<matplotlib.axes._subplots.AxesSubplot at 0x7f8302955860>"
      ]
     },
     "execution_count": 24,
     "metadata": {},
     "output_type": "execute_result"
    },
    {
     "data": {
      "image/png": "[encoded data removed]",
      "text/plain": [
       "<Figure size 432x288 with 1 Axes>"
      ]
     },
     "metadata": {
      "needs_background": "light"
     },
     "output_type": "display_data"
    }
   ],
   "source": [
    "vyhodeny_autlajery.boxplot(column=[\"TT4\"])"
   ]
  },
  {
   "cell_type": "code",
   "execution_count": 25,
   "metadata": {},
   "outputs": [
    {
     "data": {
      "text/plain": [
       "0"
      ]
     },
     "execution_count": 25,
     "metadata": {},
     "output_type": "execute_result"
    }
   ],
   "source": [
    "len(medianove) - len(vyhodeny_autlajery)"
   ]
  },
  {
   "cell_type": "markdown",
   "metadata": {},
   "source": [
    "Ocividne bolo odstranenych 58 riadkov"
   ]
  },
  {
   "cell_type": "code",
   "execution_count": 26,
   "metadata": {},
   "outputs": [
    {
     "data": {
      "text/plain": [
       "array([[<matplotlib.axes._subplots.AxesSubplot object at 0x7f830293c898>,\n",
       "        <matplotlib.axes._subplots.AxesSubplot object at 0x7f8302854e10>],\n",
       "       [<matplotlib.axes._subplots.AxesSubplot object at 0x7f8302801748>,\n",
       "        <matplotlib.axes._subplots.AxesSubplot object at 0x7f83027b10b8>]],\n",
       "      dtype=object)"
      ]
     },
     "execution_count": 26,
     "metadata": {},
     "output_type": "execute_result"
    },
    {
     "data": {
      "image/png": "[encoded data removed]",
      "text/plain": [
       "<Figure size 432x288 with 4 Axes>"
      ]
     },
     "metadata": {
      "needs_background": "light"
     },
     "output_type": "display_data"
    }
   ],
   "source": [
    "vyhodeny_autlajery.hist(bins=50, column=[\"T4U\", \"TT4\", \"T3\"])"
   ]
  },
  {
   "cell_type": "code",
   "execution_count": 27,
   "metadata": {},
   "outputs": [],
   "source": [
    "dolny_quantiles = priemerove.quantile(0.02)\n",
    "horny_quantiles = priemerove.quantile(0.98)\n",
    "nahradeny_autlajery = priemerove.mask(priemerove.select_dtypes(numpy.number) < dolny_quantiles, dolny_quantiles, axis=1)\n",
    "nahradeny_autlajery = nahradeny_autlajery.mask(nahradeny_autlajery.select_dtypes(numpy.number) > horny_quantiles, horny_quantiles, axis=1)\n"
   ]
  },
  {
   "cell_type": "markdown",
   "metadata": {},
   "source": [
    "Vyratanie kvantilov, ktorymi budeme nahradzati"
   ]
  },
  {
   "cell_type": "markdown",
   "metadata": {},
   "source": [
    "Nahradenie vyhchylenych hodnot kvantilmi."
   ]
  },
  {
   "cell_type": "code",
   "execution_count": 28,
   "metadata": {},
   "outputs": [
    {
     "data": {
      "text/plain": [
       "<matplotlib.axes._subplots.AxesSubplot at 0x7f8302607ba8>"
      ]
     },
     "execution_count": 28,
     "metadata": {},
     "output_type": "execute_result"
    },
    {
     "data": {
      "image/png": "[encoded data removed]",
      "text/plain": [
       "<Figure size 432x288 with 1 Axes>"
      ]
     },
     "metadata": {
      "needs_background": "light"
     },
     "output_type": "display_data"
    }
   ],
   "source": [
    "nahradeny_autlajery.boxplot(column=[\"T4U\", \"T3\"])"
   ]
  },
  {
   "cell_type": "code",
   "execution_count": 29,
   "metadata": {},
   "outputs": [
    {
     "data": {
      "text/plain": [
       "<matplotlib.axes._subplots.AxesSubplot at 0x7f83025e3358>"
      ]
     },
     "execution_count": 29,
     "metadata": {},
     "output_type": "execute_result"
    },
    {
     "data": {
      "image/png": "[encoded data removed]",
      "text/plain": [
       "<Figure size 432x288 with 1 Axes>"
      ]
     },
     "metadata": {
      "needs_background": "light"
     },
     "output_type": "display_data"
    }
   ],
   "source": [
    "nahradeny_autlajery.boxplot(column=[\"TT4\"])"
   ]
  },
  {
   "cell_type": "code",
   "execution_count": 30,
   "metadata": {},
   "outputs": [
    {
     "data": {
      "text/plain": [
       "array([[<matplotlib.axes._subplots.AxesSubplot object at 0x7f830250fb00>,\n",
       "        <matplotlib.axes._subplots.AxesSubplot object at 0x7f83024db438>],\n",
       "       [<matplotlib.axes._subplots.AxesSubplot object at 0x7f8302480d30>,\n",
       "        <matplotlib.axes._subplots.AxesSubplot object at 0x7f83024ae4e0>]],\n",
       "      dtype=object)"
      ]
     },
     "execution_count": 30,
     "metadata": {},
     "output_type": "execute_result"
    },
    {
     "data": {
      "image/png": "[encoded data removed]",
      "text/plain": [
       "<Figure size 432x288 with 4 Axes>"
      ]
     },
     "metadata": {
      "needs_background": "light"
     },
     "output_type": "display_data"
    }
   ],
   "source": [
    "nahradeny_autlajery.hist(bins=50, column=[\"T4U\", \"TT4\", \"T3\"])"
   ]
  },
  {
   "cell_type": "markdown",
   "metadata": {},
   "source": [
    "Zda sa, ze vyhodenie vychylenych hodnot je lepsie, nakolko vysledne rozdelenie je rovnomernejsie."
   ]
  },
  {
   "cell_type": "code",
   "execution_count": 31,
   "metadata": {},
   "outputs": [],
   "source": [
    "# barco = vyhodeny_autlajery.select_dtypes(numpy.number)\n",
    "# barco['class'] = vyhodeny_autlajery['class'] \n",
    "# sns.pairplot(barco, 'class')"
   ]
  },
  {
   "cell_type": "markdown",
   "metadata": {},
   "source": [
    "Rozdelenia hodnot sa predspracovanim zmenili len minimalne. \n",
    "Stlpec FTI zda sa, ze koreluje s hodnotou TT4"
   ]
  },
  {
   "cell_type": "code",
   "execution_count": 32,
   "metadata": {},
   "outputs": [],
   "source": [
    "vyhodeny_autlajery.to_csv(SUBOR_VYSTUP)"
   ]
  },
  {
   "cell_type": "code",
   "execution_count": null,
   "metadata": {},
   "outputs": [],
   "source": []
  }
 ],
 "metadata": {
  "kernelspec": {
   "display_name": "Python 3",
   "language": "python",
   "name": "python3"
  },
  "language_info": {
   "codemirror_mode": {
    "name": "ipython",
    "version": 3
   },
   "file_extension": ".py",
   "mimetype": "text/x-python",
   "name": "python",
   "nbconvert_exporter": "python",
   "pygments_lexer": "ipython3",
   "version": "3.7.1"
  }
 },
 "nbformat": 4,
 "nbformat_minor": 1
}
