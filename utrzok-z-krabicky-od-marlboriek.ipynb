{
 "cells": [
  {
   "cell_type": "code",
   "execution_count": 1,
   "metadata": {
    "collapsed": true
   },
   "outputs": [],
   "source": [
    "import pandas as pd\n",
    "import seaborn as sns"
   ]
  },
  {
   "cell_type": "code",
   "execution_count": 3,
   "metadata": {},
   "outputs": [
    {
     "data": {
      "text/html": [
       "<div>\n",
       "<style scoped>\n",
       "    .dataframe tbody tr th:only-of-type {\n",
       "        vertical-align: middle;\n",
       "    }\n",
       "\n",
       "    .dataframe tbody tr th {\n",
       "        vertical-align: top;\n",
       "    }\n",
       "\n",
       "    .dataframe thead th {\n",
       "        text-align: right;\n",
       "    }\n",
       "</style>\n",
       "<table border=\"1\" class=\"dataframe\">\n",
       "  <thead>\n",
       "    <tr style=\"text-align: right;\">\n",
       "      <th></th>\n",
       "      <th>Unnamed: 0</th>\n",
       "      <th>name</th>\n",
       "      <th>address</th>\n",
       "      <th>age</th>\n",
       "      <th>sex</th>\n",
       "      <th>date_of_birth</th>\n",
       "    </tr>\n",
       "  </thead>\n",
       "  <tbody>\n",
       "    <tr>\n",
       "      <th>0</th>\n",
       "      <td>0</td>\n",
       "      <td>Terry Terry</td>\n",
       "      <td>11818 Lori Crossing Apt. 802\\nPughstad, DC 78165</td>\n",
       "      <td>64.0</td>\n",
       "      <td>M</td>\n",
       "      <td>1954-05-30 00:00:00</td>\n",
       "    </tr>\n",
       "    <tr>\n",
       "      <th>1</th>\n",
       "      <td>1</td>\n",
       "      <td>Edith Boudreaux</td>\n",
       "      <td>PSC 4657, Box 5446\\nAPO AP 58412</td>\n",
       "      <td>37.0</td>\n",
       "      <td>F</td>\n",
       "      <td>1981-07-23 00:00:00</td>\n",
       "    </tr>\n",
       "    <tr>\n",
       "      <th>2</th>\n",
       "      <td>2</td>\n",
       "      <td>Janet Washington</td>\n",
       "      <td>Unit 9759 Box 9470\\nDPO AP 45549</td>\n",
       "      <td>69.0</td>\n",
       "      <td>F</td>\n",
       "      <td>1949-02-16 00 00 00</td>\n",
       "    </tr>\n",
       "    <tr>\n",
       "      <th>3</th>\n",
       "      <td>3</td>\n",
       "      <td>Margaret Chabot</td>\n",
       "      <td>137 Lewis Flat Suite 762\\nWest Elizabeth, AL 3...</td>\n",
       "      <td>78.0</td>\n",
       "      <td>F</td>\n",
       "      <td>1939-12-09</td>\n",
       "    </tr>\n",
       "    <tr>\n",
       "      <th>4</th>\n",
       "      <td>4</td>\n",
       "      <td>Colleen Satterwhite</td>\n",
       "      <td>995 Frank Stravenue\\nSouth Matthewport, TX 81402</td>\n",
       "      <td>34.0</td>\n",
       "      <td>F</td>\n",
       "      <td>1984-02-15</td>\n",
       "    </tr>\n",
       "    <tr>\n",
       "      <th>5</th>\n",
       "      <td>5</td>\n",
       "      <td>Judy Smith</td>\n",
       "      <td>1781 Meredith Skyway Suite 328\\nCordovaburgh, ...</td>\n",
       "      <td>70.0</td>\n",
       "      <td>F</td>\n",
       "      <td>1948-10-18</td>\n",
       "    </tr>\n",
       "    <tr>\n",
       "      <th>6</th>\n",
       "      <td>6</td>\n",
       "      <td>Stephen Lalk</td>\n",
       "      <td>2415 Elizabeth Knoll Suite 030\\nCordovafort, C...</td>\n",
       "      <td>35.0</td>\n",
       "      <td>M</td>\n",
       "      <td>1983-03-22</td>\n",
       "    </tr>\n",
       "    <tr>\n",
       "      <th>7</th>\n",
       "      <td>7</td>\n",
       "      <td>Abraham Bruce</td>\n",
       "      <td>49824 Kim View\\nWest Ericborough, VT 42457</td>\n",
       "      <td>73.0</td>\n",
       "      <td>M</td>\n",
       "      <td>1945-07-27</td>\n",
       "    </tr>\n",
       "    <tr>\n",
       "      <th>8</th>\n",
       "      <td>8</td>\n",
       "      <td>Anna Swartz</td>\n",
       "      <td>53231 Matthew Spur Apt. 079\\nNorth Brian, MA 3...</td>\n",
       "      <td>46.0</td>\n",
       "      <td>F</td>\n",
       "      <td>09/02/1972</td>\n",
       "    </tr>\n",
       "    <tr>\n",
       "      <th>9</th>\n",
       "      <td>9</td>\n",
       "      <td>James Wilson</td>\n",
       "      <td>USNV Gallegos\\nFPO AA 99743</td>\n",
       "      <td>74.0</td>\n",
       "      <td>M</td>\n",
       "      <td>1944-02-19</td>\n",
       "    </tr>\n",
       "    <tr>\n",
       "      <th>10</th>\n",
       "      <td>10</td>\n",
       "      <td>Patricia Kealy</td>\n",
       "      <td>655 Karen Causeway\\nBenjaminberg, NY 46590</td>\n",
       "      <td>59.0</td>\n",
       "      <td>F</td>\n",
       "      <td>59-02-03</td>\n",
       "    </tr>\n",
       "    <tr>\n",
       "      <th>11</th>\n",
       "      <td>11</td>\n",
       "      <td>Morgan Toole</td>\n",
       "      <td>9197 Juarez Lock\\nNew Matthew, VA 12312</td>\n",
       "      <td>45.0</td>\n",
       "      <td>F</td>\n",
       "      <td>1973-04-16</td>\n",
       "    </tr>\n",
       "    <tr>\n",
       "      <th>12</th>\n",
       "      <td>12</td>\n",
       "      <td>Roy Wilson</td>\n",
       "      <td>9892 Stephen Track Suite 831\\nSharonstad, TN 1...</td>\n",
       "      <td>35.0</td>\n",
       "      <td>M</td>\n",
       "      <td>14/05/1983</td>\n",
       "    </tr>\n",
       "    <tr>\n",
       "      <th>13</th>\n",
       "      <td>13</td>\n",
       "      <td>Betty Kannel</td>\n",
       "      <td>62673 Jeanette Track Apt. 852\\nMckenzieberg, W...</td>\n",
       "      <td>67.0</td>\n",
       "      <td>F</td>\n",
       "      <td>1950-11-10</td>\n",
       "    </tr>\n",
       "    <tr>\n",
       "      <th>14</th>\n",
       "      <td>14</td>\n",
       "      <td>Patricia Wasilewski</td>\n",
       "      <td>85154 Young Mill\\nAaronville, IA 31780</td>\n",
       "      <td>55.0</td>\n",
       "      <td>F</td>\n",
       "      <td>10/02/1963</td>\n",
       "    </tr>\n",
       "    <tr>\n",
       "      <th>15</th>\n",
       "      <td>15</td>\n",
       "      <td>Lori Scott</td>\n",
       "      <td>509 Antonio Haven Suite 117\\nWest Ricky, OK 35203</td>\n",
       "      <td>26.0</td>\n",
       "      <td>F</td>\n",
       "      <td>1992-09-30 00 00 00</td>\n",
       "    </tr>\n",
       "    <tr>\n",
       "      <th>16</th>\n",
       "      <td>16</td>\n",
       "      <td>Carl Young</td>\n",
       "      <td>024 Jordan Plains Suite 643\\nAndreamouth, WI 5...</td>\n",
       "      <td>63.0</td>\n",
       "      <td>?</td>\n",
       "      <td>10/08/1955</td>\n",
       "    </tr>\n",
       "    <tr>\n",
       "      <th>17</th>\n",
       "      <td>17</td>\n",
       "      <td>Karen Boyles</td>\n",
       "      <td>31259 Porter Gateway Suite 886\\nEast Sarahfort...</td>\n",
       "      <td>28.0</td>\n",
       "      <td>F</td>\n",
       "      <td>1990-02-05</td>\n",
       "    </tr>\n",
       "    <tr>\n",
       "      <th>18</th>\n",
       "      <td>18</td>\n",
       "      <td>Ronald Speigel</td>\n",
       "      <td>USNV Robinson\\nFPO AA 16102</td>\n",
       "      <td>56.0</td>\n",
       "      <td>M</td>\n",
       "      <td>1962-04-27 00 00 00</td>\n",
       "    </tr>\n",
       "    <tr>\n",
       "      <th>19</th>\n",
       "      <td>19</td>\n",
       "      <td>Michael Guzman</td>\n",
       "      <td>6135 Keith Route Apt. 868\\nAbigailchester, OK ...</td>\n",
       "      <td>73.0</td>\n",
       "      <td>M</td>\n",
       "      <td>1944-12-09</td>\n",
       "    </tr>\n",
       "    <tr>\n",
       "      <th>20</th>\n",
       "      <td>20</td>\n",
       "      <td>Elizabeth Davis</td>\n",
       "      <td>30989 Robert Stream Apt. 520\\nJorgehaven, MS 9...</td>\n",
       "      <td>32.0</td>\n",
       "      <td>F</td>\n",
       "      <td>86-06-07</td>\n",
       "    </tr>\n",
       "    <tr>\n",
       "      <th>21</th>\n",
       "      <td>21</td>\n",
       "      <td>Debra White</td>\n",
       "      <td>6934 Victor Turnpike Apt. 644\\nLake Paulamouth...</td>\n",
       "      <td>86.0</td>\n",
       "      <td>F</td>\n",
       "      <td>1931-12-20</td>\n",
       "    </tr>\n",
       "    <tr>\n",
       "      <th>22</th>\n",
       "      <td>22</td>\n",
       "      <td>Spencer Castano</td>\n",
       "      <td>83150 James Isle Suite 616\\nLake Christinaton,...</td>\n",
       "      <td>31.0</td>\n",
       "      <td>M</td>\n",
       "      <td>04/08/1987</td>\n",
       "    </tr>\n",
       "    <tr>\n",
       "      <th>23</th>\n",
       "      <td>23</td>\n",
       "      <td>Kelly Webb</td>\n",
       "      <td>2397 Powell Skyway Apt. 944\\nNew Brianport, PA...</td>\n",
       "      <td>22.0</td>\n",
       "      <td>F</td>\n",
       "      <td>1996-01-17</td>\n",
       "    </tr>\n",
       "    <tr>\n",
       "      <th>24</th>\n",
       "      <td>24</td>\n",
       "      <td>Hoyt Martinez</td>\n",
       "      <td>58132 Emily Club Apt. 346\\nEmmaborough, LA 16007</td>\n",
       "      <td>47.0</td>\n",
       "      <td>M</td>\n",
       "      <td>1971-07-24</td>\n",
       "    </tr>\n",
       "  </tbody>\n",
       "</table>\n",
       "</div>"
      ],
      "text/plain": [
       "<div>\n",
       "<style scoped>\n",
       "    .dataframe tbody tr th:only-of-type {\n",
       "        vertical-align: middle;\n",
       "    }\n",
       "\n",
       "    .dataframe tbody tr th {\n",
       "        vertical-align: top;\n",
       "    }\n",
       "\n",
       "    .dataframe thead th {\n",
       "        text-align: right;\n",
       "    }\n",
       "</style>\n",
       "<table border=\"1\" class=\"dataframe\">\n",
       "  <thead>\n",
       "    <tr style=\"text-align: right;\">\n",
       "      <th></th>\n",
       "      <th>Unnamed: 0</th>\n",
       "      <th>name</th>\n",
       "      <th>address</th>\n",
       "      <th>age</th>\n",
       "      <th>sex</th>\n",
       "      <th>date_of_birth</th>\n",
       "    </tr>\n",
       "  </thead>\n",
       "  <tbody>\n",
       "    <tr>\n",
       "      <th>0</th>\n",
       "      <td>0</td>\n",
       "      <td>Terry Terry</td>\n",
       "      <td>11818 Lori Crossing Apt. 802\\nPughstad, DC 78165</td>\n",
       "      <td>64.0</td>\n",
       "      <td>M</td>\n",
       "      <td>1954-05-30 00:00:00</td>\n",
       "    </tr>\n",
       "    <tr>\n",
       "      <th>1</th>\n",
       "      <td>1</td>\n",
       "      <td>Edith Boudreaux</td>\n",
       "      <td>PSC 4657, Box 5446\\nAPO AP 58412</td>\n",
       "      <td>37.0</td>\n",
       "      <td>F</td>\n",
       "      <td>1981-07-23 00:00:00</td>\n",
       "    </tr>\n",
       "    <tr>\n",
       "      <th>2</th>\n",
       "      <td>2</td>\n",
       "      <td>Janet Washington</td>\n",
       "      <td>Unit 9759 Box 9470\\nDPO AP 45549</td>\n",
       "      <td>69.0</td>\n",
       "      <td>F</td>\n",
       "      <td>1949-02-16 00 00 00</td>\n",
       "    </tr>\n",
       "    <tr>\n",
       "      <th>3</th>\n",
       "      <td>3</td>\n",
       "      <td>Margaret Chabot</td>\n",
       "      <td>137 Lewis Flat Suite 762\\nWest Elizabeth, AL 3...</td>\n",
       "      <td>78.0</td>\n",
       "      <td>F</td>\n",
       "      <td>1939-12-09</td>\n",
       "    </tr>\n",
       "    <tr>\n",
       "      <th>4</th>\n",
       "      <td>4</td>\n",
       "      <td>Colleen Satterwhite</td>\n",
       "      <td>995 Frank Stravenue\\nSouth Matthewport, TX 81402</td>\n",
       "      <td>34.0</td>\n",
       "      <td>F</td>\n",
       "      <td>1984-02-15</td>\n",
       "    </tr>\n",
       "    <tr>\n",
       "      <th>5</th>\n",
       "      <td>5</td>\n",
       "      <td>Judy Smith</td>\n",
       "      <td>1781 Meredith Skyway Suite 328\\nCordovaburgh, ...</td>\n",
       "      <td>70.0</td>\n",
       "      <td>F</td>\n",
       "      <td>1948-10-18</td>\n",
       "    </tr>\n",
       "    <tr>\n",
       "      <th>6</th>\n",
       "      <td>6</td>\n",
       "      <td>Stephen Lalk</td>\n",
       "      <td>2415 Elizabeth Knoll Suite 030\\nCordovafort, C...</td>\n",
       "      <td>35.0</td>\n",
       "      <td>M</td>\n",
       "      <td>1983-03-22</td>\n",
       "    </tr>\n",
       "    <tr>\n",
       "      <th>7</th>\n",
       "      <td>7</td>\n",
       "      <td>Abraham Bruce</td>\n",
       "      <td>49824 Kim View\\nWest Ericborough, VT 42457</td>\n",
       "      <td>73.0</td>\n",
       "      <td>M</td>\n",
       "      <td>1945-07-27</td>\n",
       "    </tr>\n",
       "    <tr>\n",
       "      <th>8</th>\n",
       "      <td>8</td>\n",
       "      <td>Anna Swartz</td>\n",
       "      <td>53231 Matthew Spur Apt. 079\\nNorth Brian, MA 3...</td>\n",
       "      <td>46.0</td>\n",
       "      <td>F</td>\n",
       "      <td>09/02/1972</td>\n",
       "    </tr>\n",
       "    <tr>\n",
       "      <th>9</th>\n",
       "      <td>9</td>\n",
       "      <td>James Wilson</td>\n",
       "      <td>USNV Gallegos\\nFPO AA 99743</td>\n",
       "      <td>74.0</td>\n",
       "      <td>M</td>\n",
       "      <td>1944-02-19</td>\n",
       "    </tr>\n",
       "    <tr>\n",
       "      <th>10</th>\n",
       "      <td>10</td>\n",
       "      <td>Patricia Kealy</td>\n",
       "      <td>655 Karen Causeway\\nBenjaminberg, NY 46590</td>\n",
       "      <td>59.0</td>\n",
       "      <td>F</td>\n",
       "      <td>59-02-03</td>\n",
       "    </tr>\n",
       "    <tr>\n",
       "      <th>11</th>\n",
       "      <td>11</td>\n",
       "      <td>Morgan Toole</td>\n",
       "      <td>9197 Juarez Lock\\nNew Matthew, VA 12312</td>\n",
       "      <td>45.0</td>\n",
       "      <td>F</td>\n",
       "      <td>1973-04-16</td>\n",
       "    </tr>\n",
       "    <tr>\n",
       "      <th>12</th>\n",
       "      <td>12</td>\n",
       "      <td>Roy Wilson</td>\n",
       "      <td>9892 Stephen Track Suite 831\\nSharonstad, TN 1...</td>\n",
       "      <td>35.0</td>\n",
       "      <td>M</td>\n",
       "      <td>14/05/1983</td>\n",
       "    </tr>\n",
       "    <tr>\n",
       "      <th>13</th>\n",
       "      <td>13</td>\n",
       "      <td>Betty Kannel</td>\n",
       "      <td>62673 Jeanette Track Apt. 852\\nMckenzieberg, W...</td>\n",
       "      <td>67.0</td>\n",
       "      <td>F</td>\n",
       "      <td>1950-11-10</td>\n",
       "    </tr>\n",
       "    <tr>\n",
       "      <th>14</th>\n",
       "      <td>14</td>\n",
       "      <td>Patricia Wasilewski</td>\n",
       "      <td>85154 Young Mill\\nAaronville, IA 31780</td>\n",
       "      <td>55.0</td>\n",
       "      <td>F</td>\n",
       "      <td>10/02/1963</td>\n",
       "    </tr>\n",
       "    <tr>\n",
       "      <th>15</th>\n",
       "      <td>15</td>\n",
       "      <td>Lori Scott</td>\n",
       "      <td>509 Antonio Haven Suite 117\\nWest Ricky, OK 35203</td>\n",
       "      <td>26.0</td>\n",
       "      <td>F</td>\n",
       "      <td>1992-09-30 00 00 00</td>\n",
       "    </tr>\n",
       "    <tr>\n",
       "      <th>16</th>\n",
       "      <td>16</td>\n",
       "      <td>Carl Young</td>\n",
       "      <td>024 Jordan Plains Suite 643\\nAndreamouth, WI 5...</td>\n",
       "      <td>63.0</td>\n",
       "      <td>?</td>\n",
       "      <td>10/08/1955</td>\n",
       "    </tr>\n",
       "    <tr>\n",
       "      <th>17</th>\n",
       "      <td>17</td>\n",
       "      <td>Karen Boyles</td>\n",
       "      <td>31259 Porter Gateway Suite 886\\nEast Sarahfort...</td>\n",
       "      <td>28.0</td>\n",
       "      <td>F</td>\n",
       "      <td>1990-02-05</td>\n",
       "    </tr>\n",
       "    <tr>\n",
       "      <th>18</th>\n",
       "      <td>18</td>\n",
       "      <td>Ronald Speigel</td>\n",
       "      <td>USNV Robinson\\nFPO AA 16102</td>\n",
       "      <td>56.0</td>\n",
       "      <td>M</td>\n",
       "      <td>1962-04-27 00 00 00</td>\n",
       "    </tr>\n",
       "    <tr>\n",
       "      <th>19</th>\n",
       "      <td>19</td>\n",
       "      <td>Michael Guzman</td>\n",
       "      <td>6135 Keith Route Apt. 868\\nAbigailchester, OK ...</td>\n",
       "      <td>73.0</td>\n",
       "      <td>M</td>\n",
       "      <td>1944-12-09</td>\n",
       "    </tr>\n",
       "    <tr>\n",
       "      <th>20</th>\n",
       "      <td>20</td>\n",
       "      <td>Elizabeth Davis</td>\n",
       "      <td>30989 Robert Stream Apt. 520\\nJorgehaven, MS 9...</td>\n",
       "      <td>32.0</td>\n",
       "      <td>F</td>\n",
       "      <td>86-06-07</td>\n",
       "    </tr>\n",
       "    <tr>\n",
       "      <th>21</th>\n",
       "      <td>21</td>\n",
       "      <td>Debra White</td>\n",
       "      <td>6934 Victor Turnpike Apt. 644\\nLake Paulamouth...</td>\n",
       "      <td>86.0</td>\n",
       "      <td>F</td>\n",
       "      <td>1931-12-20</td>\n",
       "    </tr>\n",
       "    <tr>\n",
       "      <th>22</th>\n",
       "      <td>22</td>\n",
       "      <td>Spencer Castano</td>\n",
       "      <td>83150 James Isle Suite 616\\nLake Christinaton,...</td>\n",
       "      <td>31.0</td>\n",
       "      <td>M</td>\n",
       "      <td>04/08/1987</td>\n",
       "    </tr>\n",
       "    <tr>\n",
       "      <th>23</th>\n",
       "      <td>23</td>\n",
       "      <td>Kelly Webb</td>\n",
       "      <td>2397 Powell Skyway Apt. 944\\nNew Brianport, PA...</td>\n",
       "      <td>22.0</td>\n",
       "      <td>F</td>\n",
       "      <td>1996-01-17</td>\n",
       "    </tr>\n",
       "    <tr>\n",
       "      <th>24</th>\n",
       "      <td>24</td>\n",
       "      <td>Hoyt Martinez</td>\n",
       "      <td>58132 Emily Club Apt. 346\\nEmmaborough, LA 16007</td>\n",
       "      <td>47.0</td>\n",
       "      <td>M</td>\n",
       "      <td>1971-07-24</td>\n",
       "    </tr>\n",
       "  </tbody>\n",
       "</table>\n",
       "</div>"
      ]
     },
     "execution_count": 3,
     "metadata": {},
     "output_type": "execute_result"
    }
   ],
   "source": [
    "data = pd.read_csv(\"data/personal_train.csv\")\n",
    "data.head(25)"
   ]
  },
  {
   "cell_type": "markdown",
   "metadata": {},
   "source": [
    "# Dataset personal_train.csv\n",
    "Mat ulozeny vek je zbytocne ak mame datum narodenia, navyse vo veku v niektorych pripadoch su ocividne chybne udaje  \n",
    "Datumy narodenia su v roznych formatoch (niektore maju aj cas, ktory nepotrebujeme)  \n",
    "Novy riadok v adrese?  \n",
    "Prvy stlpec by mohol mat aspon nejaky nazov (vyzera to na nejake id)\n",
    "Pohlavie ma aj ?"
   ]
  },
  {
   "cell_type": "code",
   "execution_count": 7,
   "metadata": {},
   "outputs": [
    {
     "data": {
      "text/html": [
       "<div>\n",
       "<style scoped>\n",
       "    .dataframe tbody tr th:only-of-type {\n",
       "        vertical-align: middle;\n",
       "    }\n",
       "\n",
       "    .dataframe tbody tr th {\n",
       "        vertical-align: top;\n",
       "    }\n",
       "\n",
       "    .dataframe thead th {\n",
       "        text-align: right;\n",
       "    }\n",
       "</style>\n",
       "<table border=\"1\" class=\"dataframe\">\n",
       "  <thead>\n",
       "    <tr style=\"text-align: right;\">\n",
       "      <th></th>\n",
       "      <th>Unnamed: 0</th>\n",
       "      <th>age</th>\n",
       "    </tr>\n",
       "  </thead>\n",
       "  <tbody>\n",
       "    <tr>\n",
       "      <th>count</th>\n",
       "      <td>2237.000000</td>\n",
       "      <td>2236.000000</td>\n",
       "    </tr>\n",
       "    <tr>\n",
       "      <th>mean</th>\n",
       "      <td>1118.000000</td>\n",
       "      <td>46.155635</td>\n",
       "    </tr>\n",
       "    <tr>\n",
       "      <th>std</th>\n",
       "      <td>645.910598</td>\n",
       "      <td>1693.680216</td>\n",
       "    </tr>\n",
       "    <tr>\n",
       "      <th>min</th>\n",
       "      <td>0.000000</td>\n",
       "      <td>-8900.000000</td>\n",
       "    </tr>\n",
       "    <tr>\n",
       "      <th>25%</th>\n",
       "      <td>559.000000</td>\n",
       "      <td>35.000000</td>\n",
       "    </tr>\n",
       "    <tr>\n",
       "      <th>50%</th>\n",
       "      <td>1118.000000</td>\n",
       "      <td>54.000000</td>\n",
       "    </tr>\n",
       "    <tr>\n",
       "      <th>75%</th>\n",
       "      <td>1677.000000</td>\n",
       "      <td>69.000000</td>\n",
       "    </tr>\n",
       "    <tr>\n",
       "      <th>max</th>\n",
       "      <td>2236.000000</td>\n",
       "      <td>8900.000000</td>\n",
       "    </tr>\n",
       "  </tbody>\n",
       "</table>\n",
       "</div>"
      ],
      "text/plain": [
       "<div>\n",
       "<style scoped>\n",
       "    .dataframe tbody tr th:only-of-type {\n",
       "        vertical-align: middle;\n",
       "    }\n",
       "\n",
       "    .dataframe tbody tr th {\n",
       "        vertical-align: top;\n",
       "    }\n",
       "\n",
       "    .dataframe thead th {\n",
       "        text-align: right;\n",
       "    }\n",
       "</style>\n",
       "<table border=\"1\" class=\"dataframe\">\n",
       "  <thead>\n",
       "    <tr style=\"text-align: right;\">\n",
       "      <th></th>\n",
       "      <th>Unnamed: 0</th>\n",
       "      <th>age</th>\n",
       "    </tr>\n",
       "  </thead>\n",
       "  <tbody>\n",
       "    <tr>\n",
       "      <th>count</th>\n",
       "      <td>2237.000000</td>\n",
       "      <td>2236.000000</td>\n",
       "    </tr>\n",
       "    <tr>\n",
       "      <th>mean</th>\n",
       "      <td>1118.000000</td>\n",
       "      <td>46.155635</td>\n",
       "    </tr>\n",
       "    <tr>\n",
       "      <th>std</th>\n",
       "      <td>645.910598</td>\n",
       "      <td>1693.680216</td>\n",
       "    </tr>\n",
       "    <tr>\n",
       "      <th>min</th>\n",
       "      <td>0.000000</td>\n",
       "      <td>-8900.000000</td>\n",
       "    </tr>\n",
       "    <tr>\n",
       "      <th>25%</th>\n",
       "      <td>559.000000</td>\n",
       "      <td>35.000000</td>\n",
       "    </tr>\n",
       "    <tr>\n",
       "      <th>50%</th>\n",
       "      <td>1118.000000</td>\n",
       "      <td>54.000000</td>\n",
       "    </tr>\n",
       "    <tr>\n",
       "      <th>75%</th>\n",
       "      <td>1677.000000</td>\n",
       "      <td>69.000000</td>\n",
       "    </tr>\n",
       "    <tr>\n",
       "      <th>max</th>\n",
       "      <td>2236.000000</td>\n",
       "      <td>8900.000000</td>\n",
       "    </tr>\n",
       "  </tbody>\n",
       "</table>\n",
       "</div>"
      ]
     },
     "execution_count": 7,
     "metadata": {},
     "output_type": "execute_result"
    }
   ],
   "source": [
    "data.describe()"
   ]
  },
  {
   "cell_type": "code",
   "execution_count": 8,
   "metadata": {},
   "outputs": [
    {
     "name": "stdout",
     "output_type": "stream",
     "text": [
      "<class 'pandas.core.frame.DataFrame'>\nRangeIndex: 2237 entries, 0 to 2236\nData columns (total 6 columns):\nUnnamed: 0       2237 non-null int64\nname             2237 non-null object\naddress          2237 non-null object\nage              2236 non-null float64\nsex              2237 non-null object\ndate_of_birth    2236 non-null object\ndtypes: float64(1), int64(1), object(4)\nmemory usage: 104.9+ KB\n"
     ]
    }
   ],
   "source": [
    "data.info()"
   ]
  },
  {
   "cell_type": "code",
   "execution_count": 9,
   "metadata": {},
   "outputs": [
    {
     "data": {
      "text/plain": [
       "array(['M', 'F', '?'], dtype=object)"
      ]
     },
     "execution_count": 9,
     "metadata": {},
     "output_type": "execute_result"
    }
   ],
   "source": [
    "data['sex'].unique()"
   ]
  },
  {
   "cell_type": "code",
   "execution_count": 2,
   "metadata": {},
   "outputs": [
    {
     "data": {
      "text/plain": [
       "array(['?', nan], dtype=object)"
      ]
     },
     "execution_count": 2,
     "metadata": {},
     "output_type": "execute_result"
    }
   ],
   "source": [
    "other = pd.read_csv(\"data/other_train.csv\")\n",
    "other['TBG'].unique()\n"
   ]
  },
  {
   "cell_type": "code",
   "execution_count": 3,
   "metadata": {},
   "outputs": [
    {
     "data": {
      "text/plain": [
       "Index(['Unnamed: 0', 'name', 'address', 'FTI measured', 'education', 'lithium',\n       'TT4', 'T4U', 'capital-loss', 'capital-gain', 'on thyroxine', 'tumor',\n       'TSH', 'T3', 'fnlwgt', 'hours-per-week', 'relationship',\n       'thyroid surgery', 'workclass', 'I131 treatment', 'class',\n       'marital-status', 'goitre', 'native-country', 'hypopituitary',\n       'query on thyroxine', 'medical_info', 'T3 measured', 'referral source',\n       'education-num', 'occupation', 'TBG measured', 'TBG', 'race',\n       'pregnant'],\n      dtype='object')"
      ]
     },
     "execution_count": 3,
     "metadata": {},
     "output_type": "execute_result"
    }
   ],
   "source": [
    "\n",
    "other.columns\n"
   ]
  },
  {
   "cell_type": "code",
   "execution_count": 4,
   "metadata": {},
   "outputs": [
    {
     "data": {
      "text/html": [
       "<div>\n",
       "<style scoped>\n",
       "    .dataframe tbody tr th:only-of-type {\n",
       "        vertical-align: middle;\n",
       "    }\n",
       "\n",
       "    .dataframe tbody tr th {\n",
       "        vertical-align: top;\n",
       "    }\n",
       "\n",
       "    .dataframe thead th {\n",
       "        text-align: right;\n",
       "    }\n",
       "</style>\n",
       "<table border=\"1\" class=\"dataframe\">\n",
       "  <thead>\n",
       "    <tr style=\"text-align: right;\">\n",
       "      <th></th>\n",
       "      <th>Unnamed: 0</th>\n",
       "      <th>TT4</th>\n",
       "      <th>T4U</th>\n",
       "      <th>capital-gain</th>\n",
       "      <th>TSH</th>\n",
       "      <th>T3</th>\n",
       "      <th>fnlwgt</th>\n",
       "      <th>hours-per-week</th>\n",
       "      <th>education-num</th>\n",
       "    </tr>\n",
       "  </thead>\n",
       "  <tbody>\n",
       "    <tr>\n",
       "      <th>count</th>\n",
       "      <td>2287.000000</td>\n",
       "      <td>2124.000000</td>\n",
       "      <td>2036.000000</td>\n",
       "      <td>2280.000000</td>\n",
       "      <td>2043.000000</td>\n",
       "      <td>1800.000000</td>\n",
       "      <td>2278.000000</td>\n",
       "      <td>2275.000000</td>\n",
       "      <td>2044.000000</td>\n",
       "    </tr>\n",
       "    <tr>\n",
       "      <th>mean</th>\n",
       "      <td>1143.000000</td>\n",
       "      <td>109.394727</td>\n",
       "      <td>0.996259</td>\n",
       "      <td>761.108772</td>\n",
       "      <td>4.522736</td>\n",
       "      <td>2.023833</td>\n",
       "      <td>187526.347234</td>\n",
       "      <td>38.338462</td>\n",
       "      <td>10.044031</td>\n",
       "    </tr>\n",
       "    <tr>\n",
       "      <th>std</th>\n",
       "      <td>660.344355</td>\n",
       "      <td>35.793095</td>\n",
       "      <td>0.193135</td>\n",
       "      <td>6264.103513</td>\n",
       "      <td>20.220951</td>\n",
       "      <td>0.818254</td>\n",
       "      <td>101945.538600</td>\n",
       "      <td>12.171910</td>\n",
       "      <td>2.480273</td>\n",
       "    </tr>\n",
       "    <tr>\n",
       "      <th>min</th>\n",
       "      <td>0.000000</td>\n",
       "      <td>2.000000</td>\n",
       "      <td>0.310000</td>\n",
       "      <td>0.000000</td>\n",
       "      <td>0.005000</td>\n",
       "      <td>0.050000</td>\n",
       "      <td>19491.000000</td>\n",
       "      <td>1.000000</td>\n",
       "      <td>1.000000</td>\n",
       "    </tr>\n",
       "    <tr>\n",
       "      <th>25%</th>\n",
       "      <td>571.500000</td>\n",
       "      <td>88.000000</td>\n",
       "      <td>0.880000</td>\n",
       "      <td>0.000000</td>\n",
       "      <td>0.450000</td>\n",
       "      <td>1.600000</td>\n",
       "      <td>117343.500000</td>\n",
       "      <td>35.000000</td>\n",
       "      <td>9.000000</td>\n",
       "    </tr>\n",
       "    <tr>\n",
       "      <th>50%</th>\n",
       "      <td>1143.000000</td>\n",
       "      <td>104.000000</td>\n",
       "      <td>0.980000</td>\n",
       "      <td>0.000000</td>\n",
       "      <td>1.400000</td>\n",
       "      <td>2.000000</td>\n",
       "      <td>177675.000000</td>\n",
       "      <td>40.000000</td>\n",
       "      <td>10.000000</td>\n",
       "    </tr>\n",
       "    <tr>\n",
       "      <th>75%</th>\n",
       "      <td>1714.500000</td>\n",
       "      <td>126.000000</td>\n",
       "      <td>1.080000</td>\n",
       "      <td>0.000000</td>\n",
       "      <td>2.600000</td>\n",
       "      <td>2.400000</td>\n",
       "      <td>232741.500000</td>\n",
       "      <td>40.000000</td>\n",
       "      <td>12.000000</td>\n",
       "    </tr>\n",
       "    <tr>\n",
       "      <th>max</th>\n",
       "      <td>2286.000000</td>\n",
       "      <td>430.000000</td>\n",
       "      <td>2.120000</td>\n",
       "      <td>99999.000000</td>\n",
       "      <td>478.000000</td>\n",
       "      <td>10.600000</td>\n",
       "      <td>799281.000000</td>\n",
       "      <td>99.000000</td>\n",
       "      <td>16.000000</td>\n",
       "    </tr>\n",
       "  </tbody>\n",
       "</table>\n",
       "</div>"
      ],
      "text/plain": [
       "<div>\n",
       "<style scoped>\n",
       "    .dataframe tbody tr th:only-of-type {\n",
       "        vertical-align: middle;\n",
       "    }\n",
       "\n",
       "    .dataframe tbody tr th {\n",
       "        vertical-align: top;\n",
       "    }\n",
       "\n",
       "    .dataframe thead th {\n",
       "        text-align: right;\n",
       "    }\n",
       "</style>\n",
       "<table border=\"1\" class=\"dataframe\">\n",
       "  <thead>\n",
       "    <tr style=\"text-align: right;\">\n",
       "      <th></th>\n",
       "      <th>Unnamed: 0</th>\n",
       "      <th>TT4</th>\n",
       "      <th>T4U</th>\n",
       "      <th>capital-gain</th>\n",
       "      <th>TSH</th>\n",
       "      <th>T3</th>\n",
       "      <th>fnlwgt</th>\n",
       "      <th>hours-per-week</th>\n",
       "      <th>education-num</th>\n",
       "    </tr>\n",
       "  </thead>\n",
       "  <tbody>\n",
       "    <tr>\n",
       "      <th>count</th>\n",
       "      <td>2287.000000</td>\n",
       "      <td>2124.000000</td>\n",
       "      <td>2036.000000</td>\n",
       "      <td>2280.000000</td>\n",
       "      <td>2043.000000</td>\n",
       "      <td>1800.000000</td>\n",
       "      <td>2278.000000</td>\n",
       "      <td>2275.000000</td>\n",
       "      <td>2044.000000</td>\n",
       "    </tr>\n",
       "    <tr>\n",
       "      <th>mean</th>\n",
       "      <td>1143.000000</td>\n",
       "      <td>109.394727</td>\n",
       "      <td>0.996259</td>\n",
       "      <td>761.108772</td>\n",
       "      <td>4.522736</td>\n",
       "      <td>2.023833</td>\n",
       "      <td>187526.347234</td>\n",
       "      <td>38.338462</td>\n",
       "      <td>10.044031</td>\n",
       "    </tr>\n",
       "    <tr>\n",
       "      <th>std</th>\n",
       "      <td>660.344355</td>\n",
       "      <td>35.793095</td>\n",
       "      <td>0.193135</td>\n",
       "      <td>6264.103513</td>\n",
       "      <td>20.220951</td>\n",
       "      <td>0.818254</td>\n",
       "      <td>101945.538600</td>\n",
       "      <td>12.171910</td>\n",
       "      <td>2.480273</td>\n",
       "    </tr>\n",
       "    <tr>\n",
       "      <th>min</th>\n",
       "      <td>0.000000</td>\n",
       "      <td>2.000000</td>\n",
       "      <td>0.310000</td>\n",
       "      <td>0.000000</td>\n",
       "      <td>0.005000</td>\n",
       "      <td>0.050000</td>\n",
       "      <td>19491.000000</td>\n",
       "      <td>1.000000</td>\n",
       "      <td>1.000000</td>\n",
       "    </tr>\n",
       "    <tr>\n",
       "      <th>25%</th>\n",
       "      <td>571.500000</td>\n",
       "      <td>88.000000</td>\n",
       "      <td>0.880000</td>\n",
       "      <td>0.000000</td>\n",
       "      <td>0.450000</td>\n",
       "      <td>1.600000</td>\n",
       "      <td>117343.500000</td>\n",
       "      <td>35.000000</td>\n",
       "      <td>9.000000</td>\n",
       "    </tr>\n",
       "    <tr>\n",
       "      <th>50%</th>\n",
       "      <td>1143.000000</td>\n",
       "      <td>104.000000</td>\n",
       "      <td>0.980000</td>\n",
       "      <td>0.000000</td>\n",
       "      <td>1.400000</td>\n",
       "      <td>2.000000</td>\n",
       "      <td>177675.000000</td>\n",
       "      <td>40.000000</td>\n",
       "      <td>10.000000</td>\n",
       "    </tr>\n",
       "    <tr>\n",
       "      <th>75%</th>\n",
       "      <td>1714.500000</td>\n",
       "      <td>126.000000</td>\n",
       "      <td>1.080000</td>\n",
       "      <td>0.000000</td>\n",
       "      <td>2.600000</td>\n",
       "      <td>2.400000</td>\n",
       "      <td>232741.500000</td>\n",
       "      <td>40.000000</td>\n",
       "      <td>12.000000</td>\n",
       "    </tr>\n",
       "    <tr>\n",
       "      <th>max</th>\n",
       "      <td>2286.000000</td>\n",
       "      <td>430.000000</td>\n",
       "      <td>2.120000</td>\n",
       "      <td>99999.000000</td>\n",
       "      <td>478.000000</td>\n",
       "      <td>10.600000</td>\n",
       "      <td>799281.000000</td>\n",
       "      <td>99.000000</td>\n",
       "      <td>16.000000</td>\n",
       "    </tr>\n",
       "  </tbody>\n",
       "</table>\n",
       "</div>"
      ]
     },
     "execution_count": 4,
     "metadata": {},
     "output_type": "execute_result"
    }
   ],
   "source": [
    "other.describe()\n"
   ]
  },
  {
   "cell_type": "code",
   "execution_count": 5,
   "metadata": {},
   "outputs": [
    {
     "name": "stdout",
     "output_type": "stream",
     "text": [
      "<class 'pandas.core.frame.DataFrame'>\nRangeIndex: 2287 entries, 0 to 2286\nData columns (total 35 columns):\nUnnamed: 0            2287 non-null int64\nname                  2287 non-null object\naddress               2287 non-null object\nFTI measured          2278 non-null object\neducation             2280 non-null object\nlithium               2280 non-null object\nTT4                   2124 non-null float64\nT4U                   2036 non-null float64\ncapital-loss          2134 non-null object\ncapital-gain          2280 non-null float64\non thyroxine          2275 non-null object\ntumor                 2273 non-null object\nTSH                   2043 non-null float64\nT3                    1800 non-null float64\nfnlwgt                2278 non-null float64\nhours-per-week        2275 non-null float64\nrelationship          2278 non-null object\nthyroid surgery       2276 non-null object\nworkclass             2278 non-null object\nI131 treatment        2278 non-null object\nclass                 2280 non-null object\nmarital-status        2280 non-null object\ngoitre                2275 non-null object\nnative-country        2281 non-null object\nhypopituitary         2283 non-null object\nquery on thyroxine    2274 non-null object\nmedical_info          2274 non-null object\nT3 measured           2281 non-null object\nreferral source       2282 non-null object\neducation-num         2044 non-null float64\noccupation            2282 non-null object\nTBG measured          2275 non-null object\nTBG                   2277 non-null object\nrace                  2280 non-null object\npregnant              2279 non-null object\ndtypes: float64(8), int64(1), object(26)\nmemory usage: 625.4+ KB\n"
     ]
    }
   ],
   "source": [
    "other.info()"
   ]
  },
  {
   "cell_type": "code",
   "execution_count": 8,
   "metadata": {},
   "outputs": [],
   "source": [
    "other['FTI measured'].unique()\n"
   ]
  },
  {
   "cell_type": "code",
   "execution_count": 7,
   "metadata": {},
   "outputs": [
    {
     "data": {
      "text/plain": [
       "array(['f', nan, 'f.14'], dtype=object)"
      ]
     },
     "execution_count": 7,
     "metadata": {},
     "output_type": "execute_result"
    }
   ],
   "source": [
    "other['TBG measured'].unique()\n"
   ]
  },
  {
   "cell_type": "code",
   "execution_count": 9,
   "metadata": {},
   "outputs": [
    {
     "data": {
      "text/plain": [
       "array(['?', nan], dtype=object)"
      ]
     },
     "execution_count": 9,
     "metadata": {},
     "output_type": "execute_result"
    }
   ],
   "source": [
    "other['TBG'].unique()"
   ]
  },
  {
   "cell_type": "code",
   "execution_count": 10,
   "metadata": {},
   "outputs": [
    {
     "data": {
      "text/plain": [
       "array(['f', nan, 't', 'f.9'], dtype=object)"
      ]
     },
     "execution_count": 10,
     "metadata": {},
     "output_type": "execute_result"
    }
   ],
   "source": [
    "other.lithium.unique()"
   ]
  },
  {
   "cell_type": "code",
   "execution_count": 11,
   "metadata": {},
   "outputs": [
    {
     "data": {
      "text/plain": [
       "array(['f', 't', nan], dtype=object)"
      ]
     },
     "execution_count": 11,
     "metadata": {},
     "output_type": "execute_result"
    }
   ],
   "source": [
    "other['on thyroxine'].unique()"
   ]
  },
  {
   "cell_type": "code",
   "execution_count": 13,
   "metadata": {},
   "outputs": [
    {
     "data": {
      "text/plain": [
       "array(['f', 't', nan, 'f.4'], dtype=object)"
      ]
     },
     "execution_count": 36,
     "metadata": {},
     "output_type": "execute_result"
    }
   ],
   "source": [
    "\n",
    "other['tumor'].unique()\n"
   ]
  },
  {
   "cell_type": "code",
   "execution_count": 14,
   "metadata": {},
   "outputs": [
    {
     "data": {
      "text/plain": [
       "array(['f', 't', nan, 'f.4'], dtype=object)"
      ]
     },
     "execution_count": 36,
     "metadata": {},
     "output_type": "execute_result"
    }
   ],
   "source": [
    "\n",
    "other['relationship'].unique()\n"
   ]
  },
  {
   "cell_type": "code",
   "execution_count": 15,
   "metadata": {},
   "outputs": [
    {
     "data": {
      "text/plain": [
       "array(['f', 't', nan, 'f.4'], dtype=object)"
      ]
     },
     "execution_count": 36,
     "metadata": {},
     "output_type": "execute_result"
    }
   ],
   "source": [
    "other['thyroid surgery'].unique()"
   ]
  },
  {
   "cell_type": "code",
   "execution_count": 18,
   "metadata": {},
   "outputs": [
    {
     "data": {
      "text/plain": [
       "array(['f', 't', nan, 'f.4'], dtype=object)"
      ]
     },
     "execution_count": 36,
     "metadata": {},
     "output_type": "execute_result"
    }
   ],
   "source": [
    "other['workclass'].unique()\n"
   ]
  },
  {
   "cell_type": "code",
   "execution_count": 19,
   "metadata": {},
   "outputs": [
    {
     "data": {
      "text/plain": [
       "array(['f', 't', nan, 'f.4'], dtype=object)"
      ]
     },
     "execution_count": 36,
     "metadata": {},
     "output_type": "execute_result"
    }
   ],
   "source": [
    "\n",
    "other['I131 treatment'].unique()\n"
   ]
  },
  {
   "cell_type": "code",
   "execution_count": 25,
   "metadata": {},
   "outputs": [
    {
     "data": {
      "text/plain": [
       "array(['f', 't', nan, 'f.4'], dtype=object)"
      ]
     },
     "execution_count": 36,
     "metadata": {},
     "output_type": "execute_result"
    }
   ],
   "source": [
    "\n",
    "other['class'].head(25).str.partition('|')"
   ]
  },
  {
   "cell_type": "code",
   "execution_count": 26,
   "metadata": {},
   "outputs": [
    {
     "data": {
      "text/plain": [
       "array(['f', 't', nan, 'f.4'], dtype=object)"
      ]
     },
     "execution_count": 36,
     "metadata": {},
     "output_type": "execute_result"
    }
   ],
   "source": [
    "other['marital-status'].unique()\n"
   ]
  },
  {
   "cell_type": "code",
   "execution_count": 28,
   "metadata": {},
   "outputs": [
    {
     "data": {
      "text/plain": [
       "array(['f', 't', nan, 'f.4'], dtype=object)"
      ]
     },
     "execution_count": 36,
     "metadata": {},
     "output_type": "execute_result"
    }
   ],
   "source": [
    "\n",
    "other['goitre'].unique()"
   ]
  },
  {
   "cell_type": "code",
   "execution_count": 29,
   "metadata": {},
   "outputs": [
    {
     "data": {
      "text/plain": [
       "array(['f', 't', nan, 'f.4'], dtype=object)"
      ]
     },
     "execution_count": 36,
     "metadata": {},
     "output_type": "execute_result"
    }
   ],
   "source": [
    "\n",
    "other['native-country'].unique()"
   ]
  },
  {
   "cell_type": "code",
   "execution_count": 30,
   "metadata": {},
   "outputs": [
    {
     "data": {
      "text/plain": [
       "array(['f', 't', nan, 'f.4'], dtype=object)"
      ]
     },
     "execution_count": 36,
     "metadata": {},
     "output_type": "execute_result"
    }
   ],
   "source": [
    "other['hypopituitary'].unique()\n"
   ]
  },
  {
   "cell_type": "code",
   "execution_count": 31,
   "metadata": {},
   "outputs": [
    {
     "data": {
      "text/plain": [
       "array(['f', 't', nan, 'f.4'], dtype=object)"
      ]
     },
     "execution_count": 36,
     "metadata": {},
     "output_type": "execute_result"
    }
   ],
   "source": [
    "other['query on thyroxine'].unique()\n"
   ]
  },
  {
   "cell_type": "code",
   "execution_count": 32,
   "metadata": {},
   "outputs": [
    {
     "data": {
      "text/plain": [
       "array(['f', 't', nan, 'f.4'], dtype=object)"
      ]
     },
     "execution_count": 36,
     "metadata": {},
     "output_type": "execute_result"
    }
   ],
   "source": [
    "\n",
    "other['T3 measured'].unique()"
   ]
  },
  {
   "cell_type": "code",
   "execution_count": 33,
   "metadata": {},
   "outputs": [
    {
     "data": {
      "text/plain": [
       "array(['f', 't', nan, 'f.4'], dtype=object)"
      ]
     },
     "execution_count": 36,
     "metadata": {},
     "output_type": "execute_result"
    }
   ],
   "source": [
    "other['referral source'].unique()\n"
   ]
  },
  {
   "cell_type": "code",
   "execution_count": 34,
   "metadata": {},
   "outputs": [
    {
     "data": {
      "text/plain": [
       "array(['f', 't', nan, 'f.4'], dtype=object)"
      ]
     },
     "execution_count": 36,
     "metadata": {},
     "output_type": "execute_result"
    }
   ],
   "source": [
    "other['occupation'].unique()"
   ]
  },
  {
   "cell_type": "code",
   "execution_count": 35,
   "metadata": {},
   "outputs": [
    {
     "data": {
      "text/plain": [
       "array(['f', 't', nan, 'f.4'], dtype=object)"
      ]
     },
     "execution_count": 36,
     "metadata": {},
     "output_type": "execute_result"
    }
   ],
   "source": [
    "other['race'].unique()"
   ]
  },
  {
   "cell_type": "code",
   "execution_count": 36,
   "metadata": {},
   "outputs": [
    {
     "data": {
      "text/plain": [
       "array(['f', 't', nan, 'f.4'], dtype=object)"
      ]
     },
     "execution_count": 36,
     "metadata": {},
     "output_type": "execute_result"
    }
   ],
   "source": [
    "other['pregnant'].unique()"
   ]
  },
  {
   "cell_type": "code",
   "execution_count": null,
   "metadata": {},
   "outputs": [
    {
     "data": {
      "text/plain": [
       "array(['f', 't', nan, 'f.4'], dtype=object)"
      ]
     },
     "execution_count": 36,
     "metadata": {},
     "output_type": "execute_result"
    }
   ],
   "source": [
    "\n"
   ]
  },
  {
   "cell_type": "markdown",
   "metadata": {},
   "source": [
    "TBG neobsahuje ziadne hodnoty - je tam bud ? alebo null\n",
    "v udajoch su prazdne hodnoty reprezentovane ? aj null (NaN)\n",
    "1. stlpec bez nazvu chce byt nejake ID\n",
    "nazov stlpca goitre fnlwgt nedava zmysel a T4 T3 T4U TSH TBG TBG measured nevieme co znamena\n",
    "FTI measured obsahuje okrem t, f a nan aj T.4\n",
    "TBG measured obsahuje f, nan a f.14 - toto nam asi nebude moc napomocne\n",
    "tumor ma f a t a f.11\n",
    "thyroid surgery ma t a f a f.5\n",
    "workclass ma ? aj nan\n",
    "I131 treatment ma f a t a nan a f.6\n",
    "class - predpona pred | je s malym aj velkym pismenom, ocazne aj je, co sa tento stlpec vlastne snazi povedat\n",
    "goitre - f t nan a f.10\n",
    "native country ma ?\n",
    "hypopituitary - f nan a f.12 - asi dost zbytocne\n",
    "query on thyroxine f nan t a f.1\n",
    "medical info ma v sebe JSON s viacerymi udajmi, asi by sa to oplatilo rozbit na viac stlpcov\n",
    "T3 measured ma f t nan a t.1\n",
    "occupation ma o.i. aj ? aj nan\n",
    "\n",
    "\n",
    "\n"
   ]
  }
 ],
 "metadata": {
  "kernelspec": {
   "display_name": "Python 2",
   "language": "python",
   "name": "python2"
  },
  "language_info": {
   "codemirror_mode": {
    "name": "ipython",
    "version": 2
   },
   "file_extension": ".py",
   "mimetype": "text/x-python",
   "name": "python",
   "nbconvert_exporter": "python",
   "pygments_lexer": "ipython2",
   "version": "2.7.6"
  }
 },
 "nbformat": 4,
 "nbformat_minor": 0
}
